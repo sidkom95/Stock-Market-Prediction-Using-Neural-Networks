{
  "nbformat": 4,
  "nbformat_minor": 0,
  "metadata": {
    "colab": {
      "name": "predict-up-down-feature-engineering.ipynb",
      "provenance": [],
      "collapsed_sections": []
    },
    "kernelspec": {
      "name": "python3",
      "display_name": "Python 3"
    },
    "accelerator": "GPU"
  },
  "cells": [
    {
      "cell_type": "code",
      "metadata": {
        "id": "RdYYm09qvJmB",
        "colab": {
          "base_uri": "https://localhost:8080/"
        },
        "outputId": "c4ba2f25-0112-42c0-a29e-81f8e4de0f47"
      },
      "source": [
        "!pip install ta\r\n",
        "!pip install tsfresh"
      ],
      "execution_count": 2,
      "outputs": [
        {
          "output_type": "stream",
          "text": [
            "Collecting ta\n",
            "  Downloading https://files.pythonhosted.org/packages/a9/22/a355ecf2d67da8150332d22ef65c3a1f79109528279bf5d40735b6f2bd72/ta-0.7.0.tar.gz\n",
            "Requirement already satisfied: numpy in /usr/local/lib/python3.6/dist-packages (from ta) (1.19.5)\n",
            "Requirement already satisfied: pandas in /usr/local/lib/python3.6/dist-packages (from ta) (1.1.5)\n",
            "Requirement already satisfied: pytz>=2017.2 in /usr/local/lib/python3.6/dist-packages (from pandas->ta) (2018.9)\n",
            "Requirement already satisfied: python-dateutil>=2.7.3 in /usr/local/lib/python3.6/dist-packages (from pandas->ta) (2.8.1)\n",
            "Requirement already satisfied: six>=1.5 in /usr/local/lib/python3.6/dist-packages (from python-dateutil>=2.7.3->pandas->ta) (1.15.0)\n",
            "Building wheels for collected packages: ta\n",
            "  Building wheel for ta (setup.py) ... \u001b[?25l\u001b[?25hdone\n",
            "  Created wheel for ta: filename=ta-0.7.0-cp36-none-any.whl size=28718 sha256=0265faf833b99a4ed1828725aadb75d7447fdd4b202e111803ffc28db4af51e6\n",
            "  Stored in directory: /root/.cache/pip/wheels/dd/88/30/de9553fb54a474eb7480b937cdbb140bdda613d29cf4da7994\n",
            "Successfully built ta\n",
            "Installing collected packages: ta\n",
            "Successfully installed ta-0.7.0\n",
            "Collecting tsfresh\n",
            "\u001b[?25l  Downloading https://files.pythonhosted.org/packages/35/b7/cbbfb02d50a93dbb710a730f168711eb343829e1cdea9f0d001d91aeefd6/tsfresh-0.17.0-py2.py3-none-any.whl (91kB)\n",
            "\u001b[K     |████████████████████████████████| 92kB 6.8MB/s \n",
            "\u001b[?25hRequirement already satisfied: scipy>=1.2.0 in /usr/local/lib/python3.6/dist-packages (from tsfresh) (1.4.1)\n",
            "Requirement already satisfied: numpy>=1.15.1 in /usr/local/lib/python3.6/dist-packages (from tsfresh) (1.19.5)\n",
            "Requirement already satisfied: requests>=2.9.1 in /usr/local/lib/python3.6/dist-packages (from tsfresh) (2.23.0)\n",
            "Requirement already satisfied: tqdm>=4.10.0 in /usr/local/lib/python3.6/dist-packages (from tsfresh) (4.41.1)\n",
            "Requirement already satisfied: dask[dataframe]>=2.9.0 in /usr/local/lib/python3.6/dist-packages (from tsfresh) (2.12.0)\n",
            "Requirement already satisfied: patsy>=0.4.1 in /usr/local/lib/python3.6/dist-packages (from tsfresh) (0.5.1)\n",
            "Requirement already satisfied: statsmodels>=0.9.0 in /usr/local/lib/python3.6/dist-packages (from tsfresh) (0.10.2)\n",
            "Requirement already satisfied: pandas>=0.25.0 in /usr/local/lib/python3.6/dist-packages (from tsfresh) (1.1.5)\n",
            "Collecting distributed>=2.11.0\n",
            "\u001b[?25l  Downloading https://files.pythonhosted.org/packages/b5/12/3c25bb53c9b508e6332b62c33a8806ec7a33c926d8e32e7e53df0b512b84/distributed-2020.12.0-py3-none-any.whl (669kB)\n",
            "\u001b[K     |████████████████████████████████| 675kB 34.5MB/s \n",
            "\u001b[?25hRequirement already satisfied: scikit-learn>=0.19.2 in /usr/local/lib/python3.6/dist-packages (from tsfresh) (0.22.2.post1)\n",
            "Requirement already satisfied: certifi>=2017.4.17 in /usr/local/lib/python3.6/dist-packages (from requests>=2.9.1->tsfresh) (2020.12.5)\n",
            "Requirement already satisfied: idna<3,>=2.5 in /usr/local/lib/python3.6/dist-packages (from requests>=2.9.1->tsfresh) (2.10)\n",
            "Requirement already satisfied: urllib3!=1.25.0,!=1.25.1,<1.26,>=1.21.1 in /usr/local/lib/python3.6/dist-packages (from requests>=2.9.1->tsfresh) (1.24.3)\n",
            "Requirement already satisfied: chardet<4,>=3.0.2 in /usr/local/lib/python3.6/dist-packages (from requests>=2.9.1->tsfresh) (3.0.4)\n",
            "Collecting partd>=0.3.10; extra == \"dataframe\"\n",
            "  Downloading https://files.pythonhosted.org/packages/44/e1/68dbe731c9c067655bff1eca5b7d40c20ca4b23fd5ec9f3d17e201a6f36b/partd-1.1.0-py3-none-any.whl\n",
            "Requirement already satisfied: toolz>=0.7.3; extra == \"dataframe\" in /usr/local/lib/python3.6/dist-packages (from dask[dataframe]>=2.9.0->tsfresh) (0.11.1)\n",
            "Collecting fsspec>=0.6.0; extra == \"dataframe\"\n",
            "\u001b[?25l  Downloading https://files.pythonhosted.org/packages/ec/80/72ac0982cc833945fada4b76c52f0f65435ba4d53bc9317d1c70b5f7e7d5/fsspec-0.8.5-py3-none-any.whl (98kB)\n",
            "\u001b[K     |████████████████████████████████| 102kB 13.6MB/s \n",
            "\u001b[?25hRequirement already satisfied: six in /usr/local/lib/python3.6/dist-packages (from patsy>=0.4.1->tsfresh) (1.15.0)\n",
            "Requirement already satisfied: python-dateutil>=2.7.3 in /usr/local/lib/python3.6/dist-packages (from pandas>=0.25.0->tsfresh) (2.8.1)\n",
            "Requirement already satisfied: pytz>=2017.2 in /usr/local/lib/python3.6/dist-packages (from pandas>=0.25.0->tsfresh) (2018.9)\n",
            "Requirement already satisfied: msgpack>=0.6.0 in /usr/local/lib/python3.6/dist-packages (from distributed>=2.11.0->tsfresh) (1.0.2)\n",
            "Requirement already satisfied: tblib>=1.6.0 in /usr/local/lib/python3.6/dist-packages (from distributed>=2.11.0->tsfresh) (1.7.0)\n",
            "Requirement already satisfied: setuptools in /usr/local/lib/python3.6/dist-packages (from distributed>=2.11.0->tsfresh) (51.1.1)\n",
            "Requirement already satisfied: pyyaml in /usr/local/lib/python3.6/dist-packages (from distributed>=2.11.0->tsfresh) (3.13)\n",
            "Requirement already satisfied: click>=6.6 in /usr/local/lib/python3.6/dist-packages (from distributed>=2.11.0->tsfresh) (7.1.2)\n",
            "Requirement already satisfied: tornado>=5; python_version < \"3.8\" in /usr/local/lib/python3.6/dist-packages (from distributed>=2.11.0->tsfresh) (5.1.1)\n",
            "Collecting cloudpickle>=1.5.0\n",
            "  Downloading https://files.pythonhosted.org/packages/e7/e3/898487e5dbeb612054cf2e0c188463acb358167fef749c53c8bb8918cea1/cloudpickle-1.6.0-py3-none-any.whl\n",
            "Collecting contextvars; python_version < \"3.7\"\n",
            "  Downloading https://files.pythonhosted.org/packages/83/96/55b82d9f13763be9d672622e1b8106c85acb83edd7cc2fa5bc67cd9877e9/contextvars-2.4.tar.gz\n",
            "Requirement already satisfied: sortedcontainers!=2.0.0,!=2.0.1 in /usr/local/lib/python3.6/dist-packages (from distributed>=2.11.0->tsfresh) (2.3.0)\n",
            "Requirement already satisfied: psutil>=5.0 in /usr/local/lib/python3.6/dist-packages (from distributed>=2.11.0->tsfresh) (5.4.8)\n",
            "Requirement already satisfied: zict>=0.1.3 in /usr/local/lib/python3.6/dist-packages (from distributed>=2.11.0->tsfresh) (2.0.0)\n",
            "Requirement already satisfied: joblib>=0.11 in /usr/local/lib/python3.6/dist-packages (from scikit-learn>=0.19.2->tsfresh) (1.0.0)\n",
            "Collecting locket\n",
            "  Downloading https://files.pythonhosted.org/packages/d0/22/3c0f97614e0be8386542facb3a7dcfc2584f7b83608c02333bced641281c/locket-0.2.0.tar.gz\n",
            "Collecting immutables>=0.9\n",
            "\u001b[?25l  Downloading https://files.pythonhosted.org/packages/99/e0/ea6fd4697120327d26773b5a84853f897a68e33d3f9376b00a8ff96e4f63/immutables-0.14-cp36-cp36m-manylinux1_x86_64.whl (98kB)\n",
            "\u001b[K     |████████████████████████████████| 102kB 13.2MB/s \n",
            "\u001b[?25hRequirement already satisfied: heapdict in /usr/local/lib/python3.6/dist-packages (from zict>=0.1.3->distributed>=2.11.0->tsfresh) (1.0.1)\n",
            "Building wheels for collected packages: contextvars, locket\n",
            "  Building wheel for contextvars (setup.py) ... \u001b[?25l\u001b[?25hdone\n",
            "  Created wheel for contextvars: filename=contextvars-2.4-cp36-none-any.whl size=7667 sha256=7bb5ebb9f89bc99abcc38de02a7eb0382b52863dc99d2b1b6694834b314a9bb7\n",
            "  Stored in directory: /root/.cache/pip/wheels/a5/7d/68/1ebae2668bda2228686e3c1cf16f2c2384cea6e9334ad5f6de\n",
            "  Building wheel for locket (setup.py) ... \u001b[?25l\u001b[?25hdone\n",
            "  Created wheel for locket: filename=locket-0.2.0-cp36-none-any.whl size=4042 sha256=1e2d49996a95f490166cf312b1d1b28b65bb0a881f65a82790c700bebbe7f801\n",
            "  Stored in directory: /root/.cache/pip/wheels/26/1e/e8/4fa236ec931b1a0cdd61578e20d4934d7bf188858723b84698\n",
            "Successfully built contextvars locket\n",
            "\u001b[31mERROR: distributed 2020.12.0 has requirement dask>=2020.12.0, but you'll have dask 2.12.0 which is incompatible.\u001b[0m\n",
            "Installing collected packages: cloudpickle, immutables, contextvars, distributed, tsfresh, locket, partd, fsspec\n",
            "  Found existing installation: cloudpickle 1.3.0\n",
            "    Uninstalling cloudpickle-1.3.0:\n",
            "      Successfully uninstalled cloudpickle-1.3.0\n",
            "  Found existing installation: distributed 1.25.3\n",
            "    Uninstalling distributed-1.25.3:\n",
            "      Successfully uninstalled distributed-1.25.3\n",
            "Successfully installed cloudpickle-1.6.0 contextvars-2.4 distributed-2020.12.0 fsspec-0.8.5 immutables-0.14 locket-0.2.0 partd-1.1.0 tsfresh-0.17.0\n"
          ],
          "name": "stdout"
        }
      ]
    },
    {
      "cell_type": "code",
      "metadata": {
        "id": "lHckeRxbaeLR",
        "colab": {
          "base_uri": "https://localhost:8080/"
        },
        "outputId": "70469c66-1f0c-4227-e86d-d33bf4afd41b"
      },
      "source": [
        "import numpy as np\r\n",
        "import pandas as pd\r\n",
        "from pandas import read_csv\r\n",
        "from statsmodels.tsa.stattools import adfuller\r\n",
        "import pandas_datareader as pdr\r\n",
        "import datetime\r\n",
        "import matplotlib.pyplot as plt\r\n",
        "import seaborn as sns\r\n",
        "import pywt\r\n",
        "import ta\r\n",
        "from ta import add_all_ta_features\r\n",
        "import tsfresh\r\n",
        "from tsfresh.feature_extraction import extract_features"
      ],
      "execution_count": 3,
      "outputs": [
        {
          "output_type": "stream",
          "text": [
            "/usr/local/lib/python3.6/dist-packages/statsmodels/tools/_testing.py:19: FutureWarning: pandas.util.testing is deprecated. Use the functions in the public API at pandas.testing instead.\n",
            "  import pandas.util.testing as tm\n"
          ],
          "name": "stderr"
        }
      ]
    },
    {
      "cell_type": "code",
      "metadata": {
        "colab": {
          "base_uri": "https://localhost:8080/",
          "height": 225
        },
        "id": "r7zBbOI_ajqF",
        "outputId": "a36521df-73f1-403a-d716-7811958836bf"
      },
      "source": [
        "## Download some data\r\n",
        "start = datetime.datetime(2000, 1, 1)\r\n",
        "end = datetime.datetime(2021, 1, 1)\r\n",
        "db_usd = pdr.data.DataReader(['BTC-USD'], 'yahoo', start, end)\r\n",
        "\r\n",
        "\r\n",
        "db_usd.columns = db_usd.columns.droplevel('Symbols')\r\n",
        "db_usd.head()"
      ],
      "execution_count": 4,
      "outputs": [
        {
          "output_type": "execute_result",
          "data": {
            "text/html": [
              "<div>\n",
              "<style scoped>\n",
              "    .dataframe tbody tr th:only-of-type {\n",
              "        vertical-align: middle;\n",
              "    }\n",
              "\n",
              "    .dataframe tbody tr th {\n",
              "        vertical-align: top;\n",
              "    }\n",
              "\n",
              "    .dataframe thead th {\n",
              "        text-align: right;\n",
              "    }\n",
              "</style>\n",
              "<table border=\"1\" class=\"dataframe\">\n",
              "  <thead>\n",
              "    <tr style=\"text-align: right;\">\n",
              "      <th>Attributes</th>\n",
              "      <th>Adj Close</th>\n",
              "      <th>Close</th>\n",
              "      <th>High</th>\n",
              "      <th>Low</th>\n",
              "      <th>Open</th>\n",
              "      <th>Volume</th>\n",
              "    </tr>\n",
              "    <tr>\n",
              "      <th>Date</th>\n",
              "      <th></th>\n",
              "      <th></th>\n",
              "      <th></th>\n",
              "      <th></th>\n",
              "      <th></th>\n",
              "      <th></th>\n",
              "    </tr>\n",
              "  </thead>\n",
              "  <tbody>\n",
              "    <tr>\n",
              "      <th>2014-09-16</th>\n",
              "      <td>457.334015</td>\n",
              "      <td>457.334015</td>\n",
              "      <td>468.174011</td>\n",
              "      <td>452.421997</td>\n",
              "      <td>465.864014</td>\n",
              "      <td>21056800.0</td>\n",
              "    </tr>\n",
              "    <tr>\n",
              "      <th>2014-09-17</th>\n",
              "      <td>424.440002</td>\n",
              "      <td>424.440002</td>\n",
              "      <td>456.859985</td>\n",
              "      <td>413.104004</td>\n",
              "      <td>456.859985</td>\n",
              "      <td>34483200.0</td>\n",
              "    </tr>\n",
              "    <tr>\n",
              "      <th>2014-09-18</th>\n",
              "      <td>394.795990</td>\n",
              "      <td>394.795990</td>\n",
              "      <td>427.834991</td>\n",
              "      <td>384.532013</td>\n",
              "      <td>424.102997</td>\n",
              "      <td>37919700.0</td>\n",
              "    </tr>\n",
              "    <tr>\n",
              "      <th>2014-09-19</th>\n",
              "      <td>408.903992</td>\n",
              "      <td>408.903992</td>\n",
              "      <td>423.295990</td>\n",
              "      <td>389.882996</td>\n",
              "      <td>394.673004</td>\n",
              "      <td>36863600.0</td>\n",
              "    </tr>\n",
              "    <tr>\n",
              "      <th>2014-09-20</th>\n",
              "      <td>398.821014</td>\n",
              "      <td>398.821014</td>\n",
              "      <td>412.425995</td>\n",
              "      <td>393.181000</td>\n",
              "      <td>408.084991</td>\n",
              "      <td>26580100.0</td>\n",
              "    </tr>\n",
              "  </tbody>\n",
              "</table>\n",
              "</div>"
            ],
            "text/plain": [
              "Attributes   Adj Close       Close  ...        Open      Volume\n",
              "Date                                ...                        \n",
              "2014-09-16  457.334015  457.334015  ...  465.864014  21056800.0\n",
              "2014-09-17  424.440002  424.440002  ...  456.859985  34483200.0\n",
              "2014-09-18  394.795990  394.795990  ...  424.102997  37919700.0\n",
              "2014-09-19  408.903992  408.903992  ...  394.673004  36863600.0\n",
              "2014-09-20  398.821014  398.821014  ...  408.084991  26580100.0\n",
              "\n",
              "[5 rows x 6 columns]"
            ]
          },
          "metadata": {
            "tags": []
          },
          "execution_count": 4
        }
      ]
    },
    {
      "cell_type": "markdown",
      "metadata": {
        "id": "9UOwOyUJhNVi"
      },
      "source": [
        "## **Features correlation**"
      ]
    },
    {
      "cell_type": "code",
      "metadata": {
        "colab": {
          "base_uri": "https://localhost:8080/",
          "height": 410
        },
        "id": "DV1ge57RaxOp",
        "outputId": "45baeab5-fc1e-434e-9016-e57b3539216b"
      },
      "source": [
        "plt.figure(figsize=(16, 6))\r\n",
        "# Store heatmap object in a variable to easily access it when you want to include more features (such as title).\r\n",
        "# Set the range of values to be displayed on the colormap from -1 to 1, and set the annotation to True to display the correlation values on the heatmap.\r\n",
        "heatmap = sns.heatmap(db_usd.corr(), vmin=-1, vmax=1, annot=True)\r\n",
        "# Give a title to the heatmap. Pad defines the distance of the title from the top of the heatmap.\r\n",
        "heatmap.set_title('Correlation Heatmap', fontdict={'fontsize':12}, pad=12);"
      ],
      "execution_count": 5,
      "outputs": [
        {
          "output_type": "display_data",
          "data": {
            "image/png": "[encoded data removed]",
            "text/plain": [
              "<Figure size 1152x432 with 2 Axes>"
            ]
          },
          "metadata": {
            "tags": [],
            "needs_background": "light"
          }
        }
      ]
    },
    {
      "cell_type": "markdown",
      "metadata": {
        "id": "VVBW1suEhVAB"
      },
      "source": [
        "We will drop highly correlated columns. \r\n",
        "\r\n",
        "Consequently, we will only keep the **Close** and **Volume** values."
      ]
    },
    {
      "cell_type": "code",
      "metadata": {
        "id": "Lq_JkiSla5SG"
      },
      "source": [
        "features = db_usd[['Close','Volume']]"
      ],
      "execution_count": 6,
      "outputs": []
    },
    {
      "cell_type": "markdown",
      "metadata": {
        "id": "gJ38FLpthlcL"
      },
      "source": [
        "# **Stationnarity tests**\r\n",
        "\r\n",
        "Financial data is usually non-stationnary.\r\n",
        "\r\n",
        "Many research papers highlighted the fact that stationnary datasets improve the accuracy of predictive models."
      ]
    },
    {
      "cell_type": "code",
      "metadata": {
        "colab": {
          "base_uri": "https://localhost:8080/"
        },
        "id": "z3hzKwDObcaT",
        "outputId": "ca7e04b6-8a5a-4d1e-b261-be1934aca5f5"
      },
      "source": [
        "# Augmented Dicky-Fuller stationnarity test\r\n",
        "\r\n",
        "# If p-value > 0.05: we fail to reject the null hypothesis (H0) => the data has a unit root and is non-stationary.\r\n",
        "# If p-value <= 0.05: we reject the null hypothesis (H0) => the data does not have a unit root and is stationary.\r\n",
        "\r\n",
        "for column in ['Close', 'Volume']:\r\n",
        "  adfuller_test = adfuller(features[column])\r\n",
        "  print('Results of the ADF test for the ' + column)\r\n",
        "  print('ADF Statistic: %f' % adfuller_test[0])\r\n",
        "  print('p-value: %f' % adfuller_test[1])\r\n",
        "  print('Critical Values:')\r\n",
        "  for key, value in adfuller_test[4].items():\r\n",
        "\t  print('\\t%s: %.3f' % (key, value))"
      ],
      "execution_count": 7,
      "outputs": [
        {
          "output_type": "stream",
          "text": [
            "Results of the ADF test for the Close\n",
            "ADF Statistic: 2.008150\n",
            "p-value: 0.998683\n",
            "Critical Values:\n",
            "\t1%: -3.433\n",
            "\t5%: -2.863\n",
            "\t10%: -2.567\n",
            "Results of the ADF test for the Volume\n",
            "ADF Statistic: 0.035457\n",
            "p-value: 0.961368\n",
            "Critical Values:\n",
            "\t1%: -3.433\n",
            "\t5%: -2.863\n",
            "\t10%: -2.567\n"
          ],
          "name": "stdout"
        }
      ]
    },
    {
      "cell_type": "code",
      "metadata": {
        "colab": {
          "base_uri": "https://localhost:8080/",
          "height": 498
        },
        "id": "bpm5laZHaYxI",
        "outputId": "5d348f5c-fd1e-4126-a652-64e7d4e04812"
      },
      "source": [
        "from plotnine import ggplot, aes, geom_line\r\n",
        "\r\n",
        "(ggplot(features.reset_index(), aes(x='Date', y='Close')) + geom_line())"
      ],
      "execution_count": 8,
      "outputs": [
        {
          "output_type": "stream",
          "text": [
            "/usr/local/lib/python3.6/dist-packages/plotnine/utils.py:1246: FutureWarning: is_categorical is deprecated and will be removed in a future version.  Use is_categorical_dtype instead\n",
            "  if pdtypes.is_categorical(arr):\n"
          ],
          "name": "stderr"
        },
        {
          "output_type": "display_data",
          "data": {
            "image/png": "[encoded data removed]",
            "text/plain": [
              "<Figure size 640x480 with 1 Axes>"
            ]
          },
          "metadata": {
            "tags": []
          }
        },
        {
          "output_type": "execute_result",
          "data": {
            "text/plain": [
              "<ggplot: (8730677306758)>"
            ]
          },
          "metadata": {
            "tags": []
          },
          "execution_count": 8
        }
      ]
    },
    {
      "cell_type": "code",
      "metadata": {
        "colab": {
          "base_uri": "https://localhost:8080/",
          "height": 498
        },
        "id": "a-Mu7RgAacao",
        "outputId": "029e8e79-2cb7-4263-d42c-7f1583027c19"
      },
      "source": [
        "from plotnine import ggplot, aes, geom_line\r\n",
        "\r\n",
        "(ggplot(features.reset_index(), aes(x='Date', y='Volume')) + geom_line())"
      ],
      "execution_count": 9,
      "outputs": [
        {
          "output_type": "stream",
          "text": [
            "/usr/local/lib/python3.6/dist-packages/plotnine/utils.py:1246: FutureWarning: is_categorical is deprecated and will be removed in a future version.  Use is_categorical_dtype instead\n",
            "  if pdtypes.is_categorical(arr):\n"
          ],
          "name": "stderr"
        },
        {
          "output_type": "display_data",
          "data": {
            "image/png": "[encoded data removed]",
            "text/plain": [
              "<Figure size 640x480 with 1 Axes>"
            ]
          },
          "metadata": {
            "tags": []
          }
        },
        {
          "output_type": "execute_result",
          "data": {
            "text/plain": [
              "<ggplot: (-9223363306177469005)>"
            ]
          },
          "metadata": {
            "tags": []
          },
          "execution_count": 9
        }
      ]
    },
    {
      "cell_type": "markdown",
      "metadata": {
        "id": "Qj5MRYFJiEsx"
      },
      "source": [
        "*It* is clear that the Close and Volume are non-stationnary. Therefore, we will compute their first order derivatives in order to have two stationnary columns."
      ]
    },
    {
      "cell_type": "code",
      "metadata": {
        "colab": {
          "base_uri": "https://localhost:8080/"
        },
        "id": "UGAIj9iZbdnJ",
        "outputId": "21c64bc3-12f5-42c3-990b-1addd6dd09b5"
      },
      "source": [
        "features['Close_diff'] = features['Close'].diff(1)\r\n",
        "features['Volume_diff'] = features['Volume'].diff(1)"
      ],
      "execution_count": 10,
      "outputs": [
        {
          "output_type": "stream",
          "text": [
            "/usr/local/lib/python3.6/dist-packages/ipykernel_launcher.py:1: SettingWithCopyWarning: \n",
            "A value is trying to be set on a copy of a slice from a DataFrame.\n",
            "Try using .loc[row_indexer,col_indexer] = value instead\n",
            "\n",
            "See the caveats in the documentation: https://pandas.pydata.org/pandas-docs/stable/user_guide/indexing.html#returning-a-view-versus-a-copy\n",
            "  \"\"\"Entry point for launching an IPython kernel.\n",
            "/usr/local/lib/python3.6/dist-packages/ipykernel_launcher.py:2: SettingWithCopyWarning: \n",
            "A value is trying to be set on a copy of a slice from a DataFrame.\n",
            "Try using .loc[row_indexer,col_indexer] = value instead\n",
            "\n",
            "See the caveats in the documentation: https://pandas.pydata.org/pandas-docs/stable/user_guide/indexing.html#returning-a-view-versus-a-copy\n",
            "  \n"
          ],
          "name": "stderr"
        }
      ]
    },
    {
      "cell_type": "code",
      "metadata": {
        "colab": {
          "base_uri": "https://localhost:8080/"
        },
        "id": "YyngEy81fdrF",
        "outputId": "4b753691-fcda-4e31-bc5b-2d6c5223c536"
      },
      "source": [
        "# Augmented Dicky-Fuller stationnarity test on the differenciated Close and Volume columns\r\n",
        "\r\n",
        "for column in ['Close_diff', 'Volume_diff']:\r\n",
        "  adfuller_test = adfuller(features[column][1:])\r\n",
        "  print('Results of the ADF test for the ' + column)\r\n",
        "  print('ADF Statistic: %f' % adfuller_test[0])\r\n",
        "  print('p-value: %f' % adfuller_test[1])\r\n",
        "  print('Critical Values:')\r\n",
        "  for key, value in adfuller_test[4].items():\r\n",
        "\t  print('\\t%s: %.3f' % (key, value))"
      ],
      "execution_count": 11,
      "outputs": [
        {
          "output_type": "stream",
          "text": [
            "Results of the ADF test for the Close_diff\n",
            "ADF Statistic: -5.575249\n",
            "p-value: 0.000001\n",
            "Critical Values:\n",
            "\t1%: -3.433\n",
            "\t5%: -2.863\n",
            "\t10%: -2.567\n",
            "Results of the ADF test for the Volume_diff\n",
            "ADF Statistic: -12.848063\n",
            "p-value: 0.000000\n",
            "Critical Values:\n",
            "\t1%: -3.433\n",
            "\t5%: -2.863\n",
            "\t10%: -2.567\n"
          ],
          "name": "stdout"
        }
      ]
    },
    {
      "cell_type": "code",
      "metadata": {
        "colab": {
          "base_uri": "https://localhost:8080/",
          "height": 404
        },
        "id": "cRj_cS8Mwdpi",
        "outputId": "c78656b3-faf1-4c1a-b704-eb37ed9ee648"
      },
      "source": [
        "plt.figure(figsize=(8, 6))\r\n",
        "plt.plot(features['Close'], \"r\", label=\"close value\")\r\n",
        "plt.plot(features['Close_diff'], \"g\", label=\"close differentiated value\")\r\n",
        "plt.title('Making Close value stationary')\r\n",
        "plt.ylabel('Value')\r\n",
        "plt.xlabel('Time')\r\n",
        "plt.grid()\r\n",
        "plt.legend()\r\n",
        "plt.show()"
      ],
      "execution_count": 12,
      "outputs": [
        {
          "output_type": "display_data",
          "data": {
            "image/png": "[encoded data removed]",
            "text/plain": [
              "<Figure size 576x432 with 1 Axes>"
            ]
          },
          "metadata": {
            "tags": [],
            "needs_background": "light"
          }
        }
      ]
    },
    {
      "cell_type": "code",
      "metadata": {
        "colab": {
          "base_uri": "https://localhost:8080/",
          "height": 404
        },
        "id": "UEAjiEK1xS92",
        "outputId": "b6664358-b87f-4ac5-a4d2-a3c3bbee5f44"
      },
      "source": [
        "plt.figure(figsize=(8, 6))\r\n",
        "plt.plot(features['Volume'], \"r\", label=\"Volume value\")\r\n",
        "plt.plot(features['Volume_diff'], \"g\", label=\"Volume differentiated value\")\r\n",
        "plt.title('Making Volume value stationary')\r\n",
        "plt.ylabel('Value')\r\n",
        "plt.xlabel('Time')\r\n",
        "plt.grid()\r\n",
        "plt.legend()\r\n",
        "plt.show()"
      ],
      "execution_count": 13,
      "outputs": [
        {
          "output_type": "display_data",
          "data": {
            "image/png": "[encoded data removed]",
            "text/plain": [
              "<Figure size 576x432 with 1 Axes>"
            ]
          },
          "metadata": {
            "tags": [],
            "needs_background": "light"
          }
        }
      ]
    },
    {
      "cell_type": "markdown",
      "metadata": {
        "id": "jbOWaLH9lGUP"
      },
      "source": [
        "# **Denoising using a Wavelet decomposition**\r\n",
        "\r\n",
        "Financial data often contains a lot of noise, which makes it harder for predictive models to extract any useful and viable information from this kind of data.\r\n",
        "\r\n",
        "We will be using the wavelet theory in order to denoise the Close and Volume values."
      ]
    },
    {
      "cell_type": "code",
      "metadata": {
        "colab": {
          "base_uri": "https://localhost:8080/"
        },
        "id": "DrfvLtD6jRZv",
        "outputId": "8b271acf-9bf0-4678-b8af-998f4ed13920"
      },
      "source": [
        "for column in ['Close', 'Volume']: \r\n",
        "  data = db_usd[column]\r\n",
        "  # Create wavelet object and define parameters\r\n",
        "  w = pywt.Wavelet('sym4')\r\n",
        "  maxlev = pywt.dwt_max_level(len(data), w.dec_len)\r\n",
        "  print(\"Maximum level of decomposition for the \" + column + ' is ' + str(maxlev))\r\n",
        "  threshold = 0.04 # Threshold for filtering\r\n",
        "\r\n",
        "  # Decompose into wavelet components, to the level selected:\r\n",
        "  coeffs = pywt.wavedec(data, 'sym4', level=maxlev)\r\n",
        "  for i in range(1, len(coeffs)):\r\n",
        "    coeffs[i] = pywt.threshold(coeffs[i], threshold*max(coeffs[i]))\r\n",
        "  column_name = column +'_denoised'\r\n",
        "  features[column_name] = pywt.waverec(coeffs, 'sym4')\r\n"
      ],
      "execution_count": 14,
      "outputs": [
        {
          "output_type": "stream",
          "text": [
            "Maximum level of decomposition for the Close is 8\n",
            "Maximum level of decomposition for the Volume is 8\n"
          ],
          "name": "stdout"
        },
        {
          "output_type": "stream",
          "text": [
            "/usr/local/lib/python3.6/dist-packages/ipykernel_launcher.py:14: SettingWithCopyWarning: \n",
            "A value is trying to be set on a copy of a slice from a DataFrame.\n",
            "Try using .loc[row_indexer,col_indexer] = value instead\n",
            "\n",
            "See the caveats in the documentation: https://pandas.pydata.org/pandas-docs/stable/user_guide/indexing.html#returning-a-view-versus-a-copy\n",
            "  \n"
          ],
          "name": "stderr"
        }
      ]
    },
    {
      "cell_type": "code",
      "metadata": {
        "colab": {
          "base_uri": "https://localhost:8080/",
          "height": 225
        },
        "id": "trcjpBiyxnLV",
        "outputId": "a7a3ec93-fdf0-40bb-a45f-fd9748993c6c"
      },
      "source": [
        "features.head()"
      ],
      "execution_count": 15,
      "outputs": [
        {
          "output_type": "execute_result",
          "data": {
            "text/html": [
              "<div>\n",
              "<style scoped>\n",
              "    .dataframe tbody tr th:only-of-type {\n",
              "        vertical-align: middle;\n",
              "    }\n",
              "\n",
              "    .dataframe tbody tr th {\n",
              "        vertical-align: top;\n",
              "    }\n",
              "\n",
              "    .dataframe thead th {\n",
              "        text-align: right;\n",
              "    }\n",
              "</style>\n",
              "<table border=\"1\" class=\"dataframe\">\n",
              "  <thead>\n",
              "    <tr style=\"text-align: right;\">\n",
              "      <th>Attributes</th>\n",
              "      <th>Close</th>\n",
              "      <th>Volume</th>\n",
              "      <th>Close_diff</th>\n",
              "      <th>Volume_diff</th>\n",
              "      <th>Close_denoised</th>\n",
              "      <th>Volume_denoised</th>\n",
              "    </tr>\n",
              "    <tr>\n",
              "      <th>Date</th>\n",
              "      <th></th>\n",
              "      <th></th>\n",
              "      <th></th>\n",
              "      <th></th>\n",
              "      <th></th>\n",
              "      <th></th>\n",
              "    </tr>\n",
              "  </thead>\n",
              "  <tbody>\n",
              "    <tr>\n",
              "      <th>2014-09-16</th>\n",
              "      <td>457.334015</td>\n",
              "      <td>21056800.0</td>\n",
              "      <td>NaN</td>\n",
              "      <td>NaN</td>\n",
              "      <td>391.534454</td>\n",
              "      <td>2.780399e+07</td>\n",
              "    </tr>\n",
              "    <tr>\n",
              "      <th>2014-09-17</th>\n",
              "      <td>424.440002</td>\n",
              "      <td>34483200.0</td>\n",
              "      <td>-32.894012</td>\n",
              "      <td>13426400.0</td>\n",
              "      <td>391.365262</td>\n",
              "      <td>2.779118e+07</td>\n",
              "    </tr>\n",
              "    <tr>\n",
              "      <th>2014-09-18</th>\n",
              "      <td>394.795990</td>\n",
              "      <td>37919700.0</td>\n",
              "      <td>-29.644012</td>\n",
              "      <td>3436500.0</td>\n",
              "      <td>391.169544</td>\n",
              "      <td>2.777854e+07</td>\n",
              "    </tr>\n",
              "    <tr>\n",
              "      <th>2014-09-19</th>\n",
              "      <td>408.903992</td>\n",
              "      <td>36863600.0</td>\n",
              "      <td>14.108002</td>\n",
              "      <td>-1056100.0</td>\n",
              "      <td>390.870224</td>\n",
              "      <td>2.776696e+07</td>\n",
              "    </tr>\n",
              "    <tr>\n",
              "      <th>2014-09-20</th>\n",
              "      <td>398.821014</td>\n",
              "      <td>26580100.0</td>\n",
              "      <td>-10.082977</td>\n",
              "      <td>-10283500.0</td>\n",
              "      <td>390.516734</td>\n",
              "      <td>2.775598e+07</td>\n",
              "    </tr>\n",
              "  </tbody>\n",
              "</table>\n",
              "</div>"
            ],
            "text/plain": [
              "Attributes       Close      Volume  ...  Close_denoised  Volume_denoised\n",
              "Date                                ...                                 \n",
              "2014-09-16  457.334015  21056800.0  ...      391.534454     2.780399e+07\n",
              "2014-09-17  424.440002  34483200.0  ...      391.365262     2.779118e+07\n",
              "2014-09-18  394.795990  37919700.0  ...      391.169544     2.777854e+07\n",
              "2014-09-19  408.903992  36863600.0  ...      390.870224     2.776696e+07\n",
              "2014-09-20  398.821014  26580100.0  ...      390.516734     2.775598e+07\n",
              "\n",
              "[5 rows x 6 columns]"
            ]
          },
          "metadata": {
            "tags": []
          },
          "execution_count": 15
        }
      ]
    },
    {
      "cell_type": "code",
      "metadata": {
        "colab": {
          "base_uri": "https://localhost:8080/",
          "height": 404
        },
        "id": "jZNeS6vBxn4O",
        "outputId": "d98a801c-f3ed-47df-e865-5195170142e6"
      },
      "source": [
        "plt.figure(figsize=(8, 6))\r\n",
        "plt.plot(features['Close'], \"r\", label=\"Close value\")\r\n",
        "plt.plot(features['Close_denoised'], \"g\", label=\"Close differentiated value\")\r\n",
        "plt.title('Making Close value denoised')\r\n",
        "plt.ylabel('Value')\r\n",
        "plt.xlabel('Time')\r\n",
        "plt.grid()\r\n",
        "plt.legend()\r\n",
        "plt.show()"
      ],
      "execution_count": 16,
      "outputs": [
        {
          "output_type": "display_data",
          "data": {
            "image/png": "[encoded data removed]",
            "text/plain": [
              "<Figure size 576x432 with 1 Axes>"
            ]
          },
          "metadata": {
            "tags": [],
            "needs_background": "light"
          }
        }
      ]
    },
    {
      "cell_type": "code",
      "metadata": {
        "colab": {
          "base_uri": "https://localhost:8080/",
          "height": 404
        },
        "id": "mGZoNCUYxn-H",
        "outputId": "4542fce6-1161-4d7b-c6c2-4d3cabddccb2"
      },
      "source": [
        "plt.figure(figsize=(8, 6))\r\n",
        "plt.plot(features['Volume'], \"r\", label=\"Volume value\")\r\n",
        "plt.plot(features['Volume_denoised'], \"g\", label=\"Volume denoised value\")\r\n",
        "plt.title('Making Volume value denoised')\r\n",
        "plt.ylabel('Value')\r\n",
        "plt.xlabel('Time')\r\n",
        "plt.grid()\r\n",
        "plt.legend()\r\n",
        "plt.show()"
      ],
      "execution_count": 17,
      "outputs": [
        {
          "output_type": "display_data",
          "data": {
            "image/png": "[encoded data removed]",
            "text/plain": [
              "<Figure size 576x432 with 1 Axes>"
            ]
          },
          "metadata": {
            "tags": [],
            "needs_background": "light"
          }
        }
      ]
    },
    {
      "cell_type": "markdown",
      "metadata": {
        "id": "eNhZnXsJiakv"
      },
      "source": [
        "# **Financial features**\r\n",
        "\r\n",
        "We will be using the TA (technical analysis) library to compute financial features."
      ]
    },
    {
      "cell_type": "code",
      "metadata": {
        "colab": {
          "base_uri": "https://localhost:8080/",
          "height": 312
        },
        "id": "aa-t3C8Rr2rF",
        "outputId": "e485db85-cbf0-4d19-c12f-356bb803a8b1"
      },
      "source": [
        "# Add all ta features\r\n",
        "financial_features = add_all_ta_features(\r\n",
        "    db_usd, open=\"Open\", high=\"High\", low=\"Low\", close=\"Close\", volume=\"Volume\")\r\n",
        "\r\n",
        "financial_features = financial_features.drop(columns = ['Adj Close', 'Close', 'High', 'Low', 'Open', 'Volume'])\r\n",
        "financial_features = financial_features.dropna(axis=1)\r\n",
        "\r\n",
        "financial_features.head()"
      ],
      "execution_count": 18,
      "outputs": [
        {
          "output_type": "stream",
          "text": [
            "/usr/local/lib/python3.6/dist-packages/ta/trend.py:768: RuntimeWarning: invalid value encountered in double_scalars\n",
            "  dip[i] = 100 * (self._dip[i] / self._trs[i])\n",
            "/usr/local/lib/python3.6/dist-packages/ta/trend.py:772: RuntimeWarning: invalid value encountered in double_scalars\n",
            "  din[i] = 100 * (self._din[i] / self._trs[i])\n"
          ],
          "name": "stderr"
        },
        {
          "output_type": "execute_result",
          "data": {
            "text/html": [
              "<div>\n",
              "<style scoped>\n",
              "    .dataframe tbody tr th:only-of-type {\n",
              "        vertical-align: middle;\n",
              "    }\n",
              "\n",
              "    .dataframe tbody tr th {\n",
              "        vertical-align: top;\n",
              "    }\n",
              "\n",
              "    .dataframe thead th {\n",
              "        text-align: right;\n",
              "    }\n",
              "</style>\n",
              "<table border=\"1\" class=\"dataframe\">\n",
              "  <thead>\n",
              "    <tr style=\"text-align: right;\">\n",
              "      <th>Attributes</th>\n",
              "      <th>volume_adi</th>\n",
              "      <th>volume_obv</th>\n",
              "      <th>volume_vpt</th>\n",
              "      <th>volume_nvi</th>\n",
              "      <th>volatility_atr</th>\n",
              "      <th>volatility_bbhi</th>\n",
              "      <th>volatility_bbli</th>\n",
              "      <th>volatility_kch</th>\n",
              "      <th>volatility_kcl</th>\n",
              "      <th>volatility_kcp</th>\n",
              "      <th>volatility_kchi</th>\n",
              "      <th>volatility_kcli</th>\n",
              "      <th>trend_adx</th>\n",
              "      <th>trend_adx_pos</th>\n",
              "      <th>trend_adx_neg</th>\n",
              "      <th>trend_ichimoku_b</th>\n",
              "      <th>trend_visual_ichimoku_b</th>\n",
              "      <th>trend_psar_up_indicator</th>\n",
              "      <th>trend_psar_down_indicator</th>\n",
              "      <th>others_dr</th>\n",
              "      <th>others_cr</th>\n",
              "    </tr>\n",
              "    <tr>\n",
              "      <th>Date</th>\n",
              "      <th></th>\n",
              "      <th></th>\n",
              "      <th></th>\n",
              "      <th></th>\n",
              "      <th></th>\n",
              "      <th></th>\n",
              "      <th></th>\n",
              "      <th></th>\n",
              "      <th></th>\n",
              "      <th></th>\n",
              "      <th></th>\n",
              "      <th></th>\n",
              "      <th></th>\n",
              "      <th></th>\n",
              "      <th></th>\n",
              "      <th></th>\n",
              "      <th></th>\n",
              "      <th></th>\n",
              "      <th></th>\n",
              "      <th></th>\n",
              "      <th></th>\n",
              "    </tr>\n",
              "  </thead>\n",
              "  <tbody>\n",
              "    <tr>\n",
              "      <th>2014-09-16</th>\n",
              "      <td>-7.924336e+06</td>\n",
              "      <td>21056800.0</td>\n",
              "      <td>2.292552e+07</td>\n",
              "      <td>1000.000000</td>\n",
              "      <td>0.0</td>\n",
              "      <td>0.0</td>\n",
              "      <td>0.0</td>\n",
              "      <td>475.062022</td>\n",
              "      <td>443.557994</td>\n",
              "      <td>0.437278</td>\n",
              "      <td>0.0</td>\n",
              "      <td>0.0</td>\n",
              "      <td>0.0</td>\n",
              "      <td>0.0</td>\n",
              "      <td>0.0</td>\n",
              "      <td>460.298004</td>\n",
              "      <td>4791.162412</td>\n",
              "      <td>0.0</td>\n",
              "      <td>0.0</td>\n",
              "      <td>-90.757076</td>\n",
              "      <td>0.000000</td>\n",
              "    </tr>\n",
              "    <tr>\n",
              "      <th>2014-09-17</th>\n",
              "      <td>-2.454020e+07</td>\n",
              "      <td>-13426400.0</td>\n",
              "      <td>-2.159076e+07</td>\n",
              "      <td>1000.000000</td>\n",
              "      <td>0.0</td>\n",
              "      <td>0.0</td>\n",
              "      <td>0.0</td>\n",
              "      <td>475.143000</td>\n",
              "      <td>415.635005</td>\n",
              "      <td>0.147963</td>\n",
              "      <td>0.0</td>\n",
              "      <td>0.0</td>\n",
              "      <td>0.0</td>\n",
              "      <td>0.0</td>\n",
              "      <td>0.0</td>\n",
              "      <td>440.639008</td>\n",
              "      <td>4791.162412</td>\n",
              "      <td>0.0</td>\n",
              "      <td>0.0</td>\n",
              "      <td>-7.192558</td>\n",
              "      <td>-7.192558</td>\n",
              "    </tr>\n",
              "    <tr>\n",
              "      <th>2014-09-18</th>\n",
              "      <td>-4.448391e+07</td>\n",
              "      <td>-51346100.0</td>\n",
              "      <td>-5.128636e+06</td>\n",
              "      <td>1000.000000</td>\n",
              "      <td>0.0</td>\n",
              "      <td>0.0</td>\n",
              "      <td>0.0</td>\n",
              "      <td>465.325548</td>\n",
              "      <td>396.784899</td>\n",
              "      <td>-0.029018</td>\n",
              "      <td>0.0</td>\n",
              "      <td>1.0</td>\n",
              "      <td>0.0</td>\n",
              "      <td>0.0</td>\n",
              "      <td>0.0</td>\n",
              "      <td>426.353012</td>\n",
              "      <td>4791.162412</td>\n",
              "      <td>0.0</td>\n",
              "      <td>1.0</td>\n",
              "      <td>-6.984265</td>\n",
              "      <td>-13.674475</td>\n",
              "    </tr>\n",
              "    <tr>\n",
              "      <th>2014-09-19</th>\n",
              "      <td>-3.937687e+07</td>\n",
              "      <td>-14482500.0</td>\n",
              "      <td>-1.331094e+06</td>\n",
              "      <td>1035.734916</td>\n",
              "      <td>0.0</td>\n",
              "      <td>0.0</td>\n",
              "      <td>0.0</td>\n",
              "      <td>459.187658</td>\n",
              "      <td>391.075673</td>\n",
              "      <td>0.261750</td>\n",
              "      <td>0.0</td>\n",
              "      <td>0.0</td>\n",
              "      <td>0.0</td>\n",
              "      <td>0.0</td>\n",
              "      <td>0.0</td>\n",
              "      <td>426.353012</td>\n",
              "      <td>4791.162412</td>\n",
              "      <td>0.0</td>\n",
              "      <td>0.0</td>\n",
              "      <td>3.573492</td>\n",
              "      <td>-10.589639</td>\n",
              "    </tr>\n",
              "    <tr>\n",
              "      <th>2014-09-20</th>\n",
              "      <td>-5.037763e+07</td>\n",
              "      <td>-41062600.0</td>\n",
              "      <td>6.618911e+05</td>\n",
              "      <td>1010.195201</td>\n",
              "      <td>0.0</td>\n",
              "      <td>0.0</td>\n",
              "      <td>0.0</td>\n",
              "      <td>451.494326</td>\n",
              "      <td>389.306740</td>\n",
              "      <td>0.152993</td>\n",
              "      <td>0.0</td>\n",
              "      <td>0.0</td>\n",
              "      <td>0.0</td>\n",
              "      <td>0.0</td>\n",
              "      <td>0.0</td>\n",
              "      <td>426.353012</td>\n",
              "      <td>4791.162412</td>\n",
              "      <td>0.0</td>\n",
              "      <td>0.0</td>\n",
              "      <td>-2.465854</td>\n",
              "      <td>-12.794369</td>\n",
              "    </tr>\n",
              "  </tbody>\n",
              "</table>\n",
              "</div>"
            ],
            "text/plain": [
              "Attributes    volume_adi  volume_obv  ...  others_dr  others_cr\n",
              "Date                                  ...                      \n",
              "2014-09-16 -7.924336e+06  21056800.0  ... -90.757076   0.000000\n",
              "2014-09-17 -2.454020e+07 -13426400.0  ...  -7.192558  -7.192558\n",
              "2014-09-18 -4.448391e+07 -51346100.0  ...  -6.984265 -13.674475\n",
              "2014-09-19 -3.937687e+07 -14482500.0  ...   3.573492 -10.589639\n",
              "2014-09-20 -5.037763e+07 -41062600.0  ...  -2.465854 -12.794369\n",
              "\n",
              "[5 rows x 21 columns]"
            ]
          },
          "metadata": {
            "tags": []
          },
          "execution_count": 18
        }
      ]
    },
    {
      "cell_type": "markdown",
      "metadata": {
        "id": "qIeehIwfigke"
      },
      "source": [
        "# **Statistical features**\r\n",
        "\r\n",
        "We will be using the TSFresh library to compute statistical features."
      ]
    },
    {
      "cell_type": "code",
      "metadata": {
        "id": "HaitSn3Ff8MV"
      },
      "source": [
        "## Selecting the features that we want to compute \r\n",
        "settings = {'abs_energy' : None,\r\n",
        "            'absolute_sum_of_changes': None,\r\n",
        "            'autocorrelation': [{'lag': 15}, {'lag': 30}, {'lag': 60}, {'lag': 90}],\r\n",
        "            'ar_coefficient': [{'coeff': 90,'k': 90}],\r\n",
        "            'augmented_dickey_fuller': [{'attr': 'pvalue'}],\r\n",
        "            'count_above_mean': None,\r\n",
        "            'count_below_mean': None,\r\n",
        "            'first_location_of_maximum': None,\r\n",
        "            'first_location_of_minimum': None,\r\n",
        "            'kurtosis': None,\r\n",
        "            'last_location_of_maximum': None,\r\n",
        "            'last_location_of_minimum': None,\r\n",
        "            'longest_strike_above_mean': None,\r\n",
        "            'longest_strike_below_mean': None,\r\n",
        "            'maximum': None,\r\n",
        "            'minimum': None,\r\n",
        "            'median': None,\r\n",
        "            'mean_second_derivative_central': None,\r\n",
        "            'mean': None, \r\n",
        "            'variance': None,\r\n",
        "            'variance_larger_than_standard_deviation': None,\r\n",
        "            'partial_autocorrelation': [{'lag': 15}, {'lag': 30}, {'lag': 60}, {'lag': 90}],\r\n",
        "            'quantile': [{'q': 0.1}, {'q': 0.5}, {'q': 0.75}, {'q': 0.95}],\r\n",
        "            'ratio_beyond_r_sigma': [{'r': 0.5}, {'r': 1}, {'r': 1.5}, {'r': 2}],\r\n",
        "            'skewness': None,\r\n",
        "            'standard_deviation': None,\r\n",
        "            'time_reversal_asymmetry_statistic': [{'lag': 1}, {'lag': 2}, {'lag': 3}, {'lag': 4}],\r\n",
        "            'number_crossing_m': [{'m': i} for i in [-500,-200,0,200,500,1000]],\r\n",
        "            'range_count': [{'min': i, 'max': j} for (i,j) in [(-500,-100),(-100,0),(0,200),(200,1000)]],\r\n",
        "            'number_cwt_peaks': [{'n': 90}]\r\n",
        "            }"
      ],
      "execution_count": 19,
      "outputs": []
    },
    {
      "cell_type": "code",
      "metadata": {
        "id": "q3g_uHsJxVL9"
      },
      "source": [
        "#statistical_features = extract_features(features, column_id=\"time_id\", column_value=\"Close\", column_sort=\"Date\", default_fc_parameters=settings)"
      ],
      "execution_count": 20,
      "outputs": []
    },
    {
      "cell_type": "code",
      "metadata": {
        "colab": {
          "base_uri": "https://localhost:8080/",
          "height": 245
        },
        "id": "MPO-UDbjwjr5",
        "outputId": "2842bb23-3b38-4e4e-dba8-b7dbe45192c1"
      },
      "source": [
        "df = pd.concat([financial_features,features], axis=1)\r\n",
        "df.head(5)"
      ],
      "execution_count": 21,
      "outputs": [
        {
          "output_type": "execute_result",
          "data": {
            "text/html": [
              "<div>\n",
              "<style scoped>\n",
              "    .dataframe tbody tr th:only-of-type {\n",
              "        vertical-align: middle;\n",
              "    }\n",
              "\n",
              "    .dataframe tbody tr th {\n",
              "        vertical-align: top;\n",
              "    }\n",
              "\n",
              "    .dataframe thead th {\n",
              "        text-align: right;\n",
              "    }\n",
              "</style>\n",
              "<table border=\"1\" class=\"dataframe\">\n",
              "  <thead>\n",
              "    <tr style=\"text-align: right;\">\n",
              "      <th>Attributes</th>\n",
              "      <th>volume_adi</th>\n",
              "      <th>volume_obv</th>\n",
              "      <th>volume_vpt</th>\n",
              "      <th>volume_nvi</th>\n",
              "      <th>volatility_atr</th>\n",
              "      <th>volatility_bbhi</th>\n",
              "      <th>volatility_bbli</th>\n",
              "      <th>volatility_kch</th>\n",
              "      <th>volatility_kcl</th>\n",
              "      <th>volatility_kcp</th>\n",
              "      <th>volatility_kchi</th>\n",
              "      <th>volatility_kcli</th>\n",
              "      <th>trend_adx</th>\n",
              "      <th>trend_adx_pos</th>\n",
              "      <th>trend_adx_neg</th>\n",
              "      <th>trend_ichimoku_b</th>\n",
              "      <th>trend_visual_ichimoku_b</th>\n",
              "      <th>trend_psar_up_indicator</th>\n",
              "      <th>trend_psar_down_indicator</th>\n",
              "      <th>others_dr</th>\n",
              "      <th>others_cr</th>\n",
              "      <th>Close</th>\n",
              "      <th>Volume</th>\n",
              "      <th>Close_diff</th>\n",
              "      <th>Volume_diff</th>\n",
              "      <th>Close_denoised</th>\n",
              "      <th>Volume_denoised</th>\n",
              "    </tr>\n",
              "    <tr>\n",
              "      <th>Date</th>\n",
              "      <th></th>\n",
              "      <th></th>\n",
              "      <th></th>\n",
              "      <th></th>\n",
              "      <th></th>\n",
              "      <th></th>\n",
              "      <th></th>\n",
              "      <th></th>\n",
              "      <th></th>\n",
              "      <th></th>\n",
              "      <th></th>\n",
              "      <th></th>\n",
              "      <th></th>\n",
              "      <th></th>\n",
              "      <th></th>\n",
              "      <th></th>\n",
              "      <th></th>\n",
              "      <th></th>\n",
              "      <th></th>\n",
              "      <th></th>\n",
              "      <th></th>\n",
              "      <th></th>\n",
              "      <th></th>\n",
              "      <th></th>\n",
              "      <th></th>\n",
              "      <th></th>\n",
              "      <th></th>\n",
              "    </tr>\n",
              "  </thead>\n",
              "  <tbody>\n",
              "    <tr>\n",
              "      <th>2014-09-16</th>\n",
              "      <td>-7.924336e+06</td>\n",
              "      <td>21056800.0</td>\n",
              "      <td>2.292552e+07</td>\n",
              "      <td>1000.000000</td>\n",
              "      <td>0.0</td>\n",
              "      <td>0.0</td>\n",
              "      <td>0.0</td>\n",
              "      <td>475.062022</td>\n",
              "      <td>443.557994</td>\n",
              "      <td>0.437278</td>\n",
              "      <td>0.0</td>\n",
              "      <td>0.0</td>\n",
              "      <td>0.0</td>\n",
              "      <td>0.0</td>\n",
              "      <td>0.0</td>\n",
              "      <td>460.298004</td>\n",
              "      <td>4791.162412</td>\n",
              "      <td>0.0</td>\n",
              "      <td>0.0</td>\n",
              "      <td>-90.757076</td>\n",
              "      <td>0.000000</td>\n",
              "      <td>457.334015</td>\n",
              "      <td>21056800.0</td>\n",
              "      <td>NaN</td>\n",
              "      <td>NaN</td>\n",
              "      <td>391.534454</td>\n",
              "      <td>2.780399e+07</td>\n",
              "    </tr>\n",
              "    <tr>\n",
              "      <th>2014-09-17</th>\n",
              "      <td>-2.454020e+07</td>\n",
              "      <td>-13426400.0</td>\n",
              "      <td>-2.159076e+07</td>\n",
              "      <td>1000.000000</td>\n",
              "      <td>0.0</td>\n",
              "      <td>0.0</td>\n",
              "      <td>0.0</td>\n",
              "      <td>475.143000</td>\n",
              "      <td>415.635005</td>\n",
              "      <td>0.147963</td>\n",
              "      <td>0.0</td>\n",
              "      <td>0.0</td>\n",
              "      <td>0.0</td>\n",
              "      <td>0.0</td>\n",
              "      <td>0.0</td>\n",
              "      <td>440.639008</td>\n",
              "      <td>4791.162412</td>\n",
              "      <td>0.0</td>\n",
              "      <td>0.0</td>\n",
              "      <td>-7.192558</td>\n",
              "      <td>-7.192558</td>\n",
              "      <td>424.440002</td>\n",
              "      <td>34483200.0</td>\n",
              "      <td>-32.894012</td>\n",
              "      <td>13426400.0</td>\n",
              "      <td>391.365262</td>\n",
              "      <td>2.779118e+07</td>\n",
              "    </tr>\n",
              "    <tr>\n",
              "      <th>2014-09-18</th>\n",
              "      <td>-4.448391e+07</td>\n",
              "      <td>-51346100.0</td>\n",
              "      <td>-5.128636e+06</td>\n",
              "      <td>1000.000000</td>\n",
              "      <td>0.0</td>\n",
              "      <td>0.0</td>\n",
              "      <td>0.0</td>\n",
              "      <td>465.325548</td>\n",
              "      <td>396.784899</td>\n",
              "      <td>-0.029018</td>\n",
              "      <td>0.0</td>\n",
              "      <td>1.0</td>\n",
              "      <td>0.0</td>\n",
              "      <td>0.0</td>\n",
              "      <td>0.0</td>\n",
              "      <td>426.353012</td>\n",
              "      <td>4791.162412</td>\n",
              "      <td>0.0</td>\n",
              "      <td>1.0</td>\n",
              "      <td>-6.984265</td>\n",
              "      <td>-13.674475</td>\n",
              "      <td>394.795990</td>\n",
              "      <td>37919700.0</td>\n",
              "      <td>-29.644012</td>\n",
              "      <td>3436500.0</td>\n",
              "      <td>391.169544</td>\n",
              "      <td>2.777854e+07</td>\n",
              "    </tr>\n",
              "    <tr>\n",
              "      <th>2014-09-19</th>\n",
              "      <td>-3.937687e+07</td>\n",
              "      <td>-14482500.0</td>\n",
              "      <td>-1.331094e+06</td>\n",
              "      <td>1035.734916</td>\n",
              "      <td>0.0</td>\n",
              "      <td>0.0</td>\n",
              "      <td>0.0</td>\n",
              "      <td>459.187658</td>\n",
              "      <td>391.075673</td>\n",
              "      <td>0.261750</td>\n",
              "      <td>0.0</td>\n",
              "      <td>0.0</td>\n",
              "      <td>0.0</td>\n",
              "      <td>0.0</td>\n",
              "      <td>0.0</td>\n",
              "      <td>426.353012</td>\n",
              "      <td>4791.162412</td>\n",
              "      <td>0.0</td>\n",
              "      <td>0.0</td>\n",
              "      <td>3.573492</td>\n",
              "      <td>-10.589639</td>\n",
              "      <td>408.903992</td>\n",
              "      <td>36863600.0</td>\n",
              "      <td>14.108002</td>\n",
              "      <td>-1056100.0</td>\n",
              "      <td>390.870224</td>\n",
              "      <td>2.776696e+07</td>\n",
              "    </tr>\n",
              "    <tr>\n",
              "      <th>2014-09-20</th>\n",
              "      <td>-5.037763e+07</td>\n",
              "      <td>-41062600.0</td>\n",
              "      <td>6.618911e+05</td>\n",
              "      <td>1010.195201</td>\n",
              "      <td>0.0</td>\n",
              "      <td>0.0</td>\n",
              "      <td>0.0</td>\n",
              "      <td>451.494326</td>\n",
              "      <td>389.306740</td>\n",
              "      <td>0.152993</td>\n",
              "      <td>0.0</td>\n",
              "      <td>0.0</td>\n",
              "      <td>0.0</td>\n",
              "      <td>0.0</td>\n",
              "      <td>0.0</td>\n",
              "      <td>426.353012</td>\n",
              "      <td>4791.162412</td>\n",
              "      <td>0.0</td>\n",
              "      <td>0.0</td>\n",
              "      <td>-2.465854</td>\n",
              "      <td>-12.794369</td>\n",
              "      <td>398.821014</td>\n",
              "      <td>26580100.0</td>\n",
              "      <td>-10.082977</td>\n",
              "      <td>-10283500.0</td>\n",
              "      <td>390.516734</td>\n",
              "      <td>2.775598e+07</td>\n",
              "    </tr>\n",
              "  </tbody>\n",
              "</table>\n",
              "</div>"
            ],
            "text/plain": [
              "Attributes    volume_adi  volume_obv  ...  Close_denoised  Volume_denoised\n",
              "Date                                  ...                                 \n",
              "2014-09-16 -7.924336e+06  21056800.0  ...      391.534454     2.780399e+07\n",
              "2014-09-17 -2.454020e+07 -13426400.0  ...      391.365262     2.779118e+07\n",
              "2014-09-18 -4.448391e+07 -51346100.0  ...      391.169544     2.777854e+07\n",
              "2014-09-19 -3.937687e+07 -14482500.0  ...      390.870224     2.776696e+07\n",
              "2014-09-20 -5.037763e+07 -41062600.0  ...      390.516734     2.775598e+07\n",
              "\n",
              "[5 rows x 27 columns]"
            ]
          },
          "metadata": {
            "tags": []
          },
          "execution_count": 21
        }
      ]
    },
    {
      "cell_type": "code",
      "metadata": {
        "id": "heJOSn09FfZr"
      },
      "source": [
        "# make close value be the last column\r\n",
        "df = df[['volume_adi',\r\n",
        " 'volume_obv',\r\n",
        " 'volume_vpt',\r\n",
        " 'volume_nvi',\r\n",
        " 'volatility_atr',\r\n",
        " 'volatility_bbhi',\r\n",
        " 'volatility_bbli',\r\n",
        " 'volatility_kch',\r\n",
        " 'volatility_kcl',\r\n",
        " 'volatility_kcp',\r\n",
        " 'volatility_kchi',\r\n",
        " 'volatility_kcli',\r\n",
        " 'trend_adx',\r\n",
        " 'trend_adx_pos',\r\n",
        " 'trend_adx_neg',\r\n",
        " 'trend_ichimoku_b',\r\n",
        " 'trend_visual_ichimoku_b',\r\n",
        " 'trend_psar_up_indicator',\r\n",
        " 'trend_psar_down_indicator',\r\n",
        " 'others_dr',\r\n",
        " 'others_cr',\r\n",
        " 'Volume',\r\n",
        " 'Close_diff',\r\n",
        " 'Volume_diff',\r\n",
        " 'Close_denoised',\r\n",
        " 'Volume_denoised',\r\n",
        " 'Close']]"
      ],
      "execution_count": 22,
      "outputs": []
    },
    {
      "cell_type": "code",
      "metadata": {
        "id": "qeJB_ORlHyLb"
      },
      "source": [
        "#remove first day due to nan value\r\n",
        "df = df.iloc[1:]"
      ],
      "execution_count": 23,
      "outputs": []
    },
    {
      "cell_type": "code",
      "metadata": {
        "id": "bWgu93TmG_SD"
      },
      "source": [
        "from sklearn.model_selection import train_test_split\r\n",
        "np_df =  df.to_numpy()\r\n",
        "X_train, X_test, y_train, y_test = train_test_split( np_df[:,:26], np_df[:,26], test_size=0.2, shuffle=False,random_state=42)"
      ],
      "execution_count": 24,
      "outputs": []
    },
    {
      "cell_type": "markdown",
      "metadata": {
        "id": "NCKmLK4cHJtU"
      },
      "source": [
        "# **Select the K best features**"
      ]
    },
    {
      "cell_type": "code",
      "metadata": {
        "colab": {
          "base_uri": "https://localhost:8080/"
        },
        "id": "eDYge27oGeYW",
        "outputId": "396b4b1c-b2fa-4293-c9fc-a02046ac10b6"
      },
      "source": [
        "from sklearn.feature_selection import SelectKBest\r\n",
        "\r\n",
        "k = 10 #hyperparameter\r\n",
        "\r\n",
        "selector = SelectKBest(k=10)\r\n",
        "selector.fit(X_train,y_train)\r\n",
        "#selector.fit(features, labels)\r\n",
        "\r\n",
        "print(selector.get_support(indices=True))\r\n",
        "ListOfFeatures = selector.get_support(indices=True)\r\n",
        "\r\n",
        "selected_features = df[df.columns[ListOfFeatures]]\r\n"
      ],
      "execution_count": 25,
      "outputs": [
        {
          "output_type": "stream",
          "text": [
            "[ 0  4  5  6  8 16 17 18 20 24]\n"
          ],
          "name": "stdout"
        },
        {
          "output_type": "stream",
          "text": [
            "/usr/local/lib/python3.6/dist-packages/sklearn/feature_selection/_univariate_selection.py:115: RuntimeWarning: divide by zero encountered in true_divide\n",
            "  f = msb / msw\n"
          ],
          "name": "stderr"
        }
      ]
    },
    {
      "cell_type": "code",
      "metadata": {
        "colab": {
          "base_uri": "https://localhost:8080/",
          "height": 245
        },
        "id": "Q5OfYDm6Ikda",
        "outputId": "1e676346-7257-43d2-d03c-b75036e670f4"
      },
      "source": [
        "selected_features.head()"
      ],
      "execution_count": 26,
      "outputs": [
        {
          "output_type": "execute_result",
          "data": {
            "text/html": [
              "<div>\n",
              "<style scoped>\n",
              "    .dataframe tbody tr th:only-of-type {\n",
              "        vertical-align: middle;\n",
              "    }\n",
              "\n",
              "    .dataframe tbody tr th {\n",
              "        vertical-align: top;\n",
              "    }\n",
              "\n",
              "    .dataframe thead th {\n",
              "        text-align: right;\n",
              "    }\n",
              "</style>\n",
              "<table border=\"1\" class=\"dataframe\">\n",
              "  <thead>\n",
              "    <tr style=\"text-align: right;\">\n",
              "      <th>Attributes</th>\n",
              "      <th>volume_adi</th>\n",
              "      <th>volatility_atr</th>\n",
              "      <th>volatility_bbhi</th>\n",
              "      <th>volatility_bbli</th>\n",
              "      <th>volatility_kcl</th>\n",
              "      <th>trend_visual_ichimoku_b</th>\n",
              "      <th>trend_psar_up_indicator</th>\n",
              "      <th>trend_psar_down_indicator</th>\n",
              "      <th>others_cr</th>\n",
              "      <th>Close_denoised</th>\n",
              "    </tr>\n",
              "    <tr>\n",
              "      <th>Date</th>\n",
              "      <th></th>\n",
              "      <th></th>\n",
              "      <th></th>\n",
              "      <th></th>\n",
              "      <th></th>\n",
              "      <th></th>\n",
              "      <th></th>\n",
              "      <th></th>\n",
              "      <th></th>\n",
              "      <th></th>\n",
              "    </tr>\n",
              "  </thead>\n",
              "  <tbody>\n",
              "    <tr>\n",
              "      <th>2014-09-17</th>\n",
              "      <td>-2.454020e+07</td>\n",
              "      <td>0.0</td>\n",
              "      <td>0.0</td>\n",
              "      <td>0.0</td>\n",
              "      <td>415.635005</td>\n",
              "      <td>4791.162412</td>\n",
              "      <td>0.0</td>\n",
              "      <td>0.0</td>\n",
              "      <td>-7.192558</td>\n",
              "      <td>391.365262</td>\n",
              "    </tr>\n",
              "    <tr>\n",
              "      <th>2014-09-18</th>\n",
              "      <td>-4.448391e+07</td>\n",
              "      <td>0.0</td>\n",
              "      <td>0.0</td>\n",
              "      <td>0.0</td>\n",
              "      <td>396.784899</td>\n",
              "      <td>4791.162412</td>\n",
              "      <td>0.0</td>\n",
              "      <td>1.0</td>\n",
              "      <td>-13.674475</td>\n",
              "      <td>391.169544</td>\n",
              "    </tr>\n",
              "    <tr>\n",
              "      <th>2014-09-19</th>\n",
              "      <td>-3.937687e+07</td>\n",
              "      <td>0.0</td>\n",
              "      <td>0.0</td>\n",
              "      <td>0.0</td>\n",
              "      <td>391.075673</td>\n",
              "      <td>4791.162412</td>\n",
              "      <td>0.0</td>\n",
              "      <td>0.0</td>\n",
              "      <td>-10.589639</td>\n",
              "      <td>390.870224</td>\n",
              "    </tr>\n",
              "    <tr>\n",
              "      <th>2014-09-20</th>\n",
              "      <td>-5.037763e+07</td>\n",
              "      <td>0.0</td>\n",
              "      <td>0.0</td>\n",
              "      <td>0.0</td>\n",
              "      <td>389.306740</td>\n",
              "      <td>4791.162412</td>\n",
              "      <td>0.0</td>\n",
              "      <td>0.0</td>\n",
              "      <td>-12.794369</td>\n",
              "      <td>390.516734</td>\n",
              "    </tr>\n",
              "    <tr>\n",
              "      <th>2014-09-21</th>\n",
              "      <td>-4.974146e+07</td>\n",
              "      <td>0.0</td>\n",
              "      <td>0.0</td>\n",
              "      <td>0.0</td>\n",
              "      <td>389.802287</td>\n",
              "      <td>4791.162412</td>\n",
              "      <td>0.0</td>\n",
              "      <td>0.0</td>\n",
              "      <td>-12.066018</td>\n",
              "      <td>390.133779</td>\n",
              "    </tr>\n",
              "  </tbody>\n",
              "</table>\n",
              "</div>"
            ],
            "text/plain": [
              "Attributes    volume_adi  volatility_atr  ...  others_cr  Close_denoised\n",
              "Date                                      ...                           \n",
              "2014-09-17 -2.454020e+07             0.0  ...  -7.192558      391.365262\n",
              "2014-09-18 -4.448391e+07             0.0  ... -13.674475      391.169544\n",
              "2014-09-19 -3.937687e+07             0.0  ... -10.589639      390.870224\n",
              "2014-09-20 -5.037763e+07             0.0  ... -12.794369      390.516734\n",
              "2014-09-21 -4.974146e+07             0.0  ... -12.066018      390.133779\n",
              "\n",
              "[5 rows x 10 columns]"
            ]
          },
          "metadata": {
            "tags": []
          },
          "execution_count": 26
        }
      ]
    },
    {
      "cell_type": "code",
      "metadata": {
        "id": "rk2h1Q8QjBvp"
      },
      "source": [
        "def prepare_data(data, num_days=100, step=5, horizon=5, test_train_ratio=0.8):\r\n",
        "    \r\n",
        "    ## initialize\r\n",
        "    images = np.zeros([0, num_days, data.shape[1]])\r\n",
        "    labels = np.zeros([0,2])\r\n",
        "    \r\n",
        "    ## for each date\r\n",
        "    for idx in range(0, data.shape[0] - (num_days + horizon), step):\r\n",
        "        ## get stock data\r\n",
        "        new_image = data[range(idx, idx+(num_days)),:]\r\n",
        "        ## normalize the data (ad-hoc here!)\r\n",
        "        #col_min = new_image.min(axis=0)\r\n",
        "        #col_max = new_image.max(axis=0)\r\n",
        "        #new_image = (new_image - col_min) / (col_max - col_min)\r\n",
        "        ## save\r\n",
        "        images = np.concatenate((images, np.expand_dims(new_image, axis=0)), axis=0)\r\n",
        "        ## one-hot labelling: stock price went up or not\r\n",
        "        if data[idx+(num_days+horizon), -1] > data[idx+(num_days), -1]:\r\n",
        "            new_label = [[1.0, 0.0]]\r\n",
        "        else:\r\n",
        "            new_label = [[0.0, 1.0]]\r\n",
        "        labels = np.concatenate((labels, new_label), axis=0)\r\n",
        "\r\n",
        "    ## make train-test sets\r\n",
        "    train_test_idx = int(test_train_ratio * labels.shape[0])\r\n",
        "    x_train = images[:train_test_idx,:,:]\r\n",
        "    y_train = labels[:train_test_idx]\r\n",
        "    x_test = images[train_test_idx:,:,:]\r\n",
        "    y_test = labels[train_test_idx:]\r\n",
        "\r\n",
        "    return x_train, y_train, x_test, y_test"
      ],
      "execution_count": 27,
      "outputs": []
    },
    {
      "cell_type": "code",
      "metadata": {
        "colab": {
          "base_uri": "https://localhost:8080/"
        },
        "id": "Igg1iOnakBbM",
        "outputId": "01974aa1-e6b2-403c-e17f-658c6a4f0d1b"
      },
      "source": [
        "data = selected_features.to_numpy()\r\n",
        "\r\n",
        "x_train, y_train, x_test, y_test = prepare_data(data , step=5, horizon=5)\r\n",
        "\r\n",
        "print(x_train.shape)\r\n",
        "print(y_train.shape)"
      ],
      "execution_count": 28,
      "outputs": [
        {
          "output_type": "stream",
          "text": [
            "(350, 100, 10)\n",
            "(350, 2)\n"
          ],
          "name": "stdout"
        }
      ]
    },
    {
      "cell_type": "markdown",
      "metadata": {
        "id": "AaURRyDUNSiI"
      },
      "source": [
        "# **LSTM model**"
      ]
    },
    {
      "cell_type": "code",
      "metadata": {
        "id": "WyyvsmWekBhn"
      },
      "source": [
        "from tensorflow.keras.models import Sequential\r\n",
        "from tensorflow.keras.layers import Dense\r\n",
        "from tensorflow.keras.layers import LSTM\r\n",
        "import keras"
      ],
      "execution_count": 29,
      "outputs": []
    },
    {
      "cell_type": "markdown",
      "metadata": {
        "id": "m--w-hFoOpWy"
      },
      "source": [
        ""
      ]
    },
    {
      "cell_type": "code",
      "metadata": {
        "id": "fUJCN_DwkBlg"
      },
      "source": [
        "model=Sequential()\r\n",
        "model.add(LSTM(50,return_sequences=True,input_shape=(100,10)))\r\n",
        "model.add(LSTM(50,return_sequences=True))\r\n",
        "model.add(LSTM(50))\r\n",
        "model.add(Dense(2, activation='softmax'))\r\n",
        "model.compile(loss='categorical_crossentropy',optimizer='adam', metrics=['accuracy'])#optimizer='adam'"
      ],
      "execution_count": 30,
      "outputs": []
    },
    {
      "cell_type": "code",
      "metadata": {
        "colab": {
          "base_uri": "https://localhost:8080/"
        },
        "id": "vvczev64kBmd",
        "outputId": "cb5b61ea-d7bf-4f48-c59c-42f0379f60e9"
      },
      "source": [
        "model.summary()"
      ],
      "execution_count": 31,
      "outputs": [
        {
          "output_type": "stream",
          "text": [
            "Model: \"sequential\"\n",
            "_________________________________________________________________\n",
            "Layer (type)                 Output Shape              Param #   \n",
            "=================================================================\n",
            "lstm (LSTM)                  (None, 100, 50)           12200     \n",
            "_________________________________________________________________\n",
            "lstm_1 (LSTM)                (None, 100, 50)           20200     \n",
            "_________________________________________________________________\n",
            "lstm_2 (LSTM)                (None, 50)                20200     \n",
            "_________________________________________________________________\n",
            "dense (Dense)                (None, 2)                 102       \n",
            "=================================================================\n",
            "Total params: 52,702\n",
            "Trainable params: 52,702\n",
            "Non-trainable params: 0\n",
            "_________________________________________________________________\n"
          ],
          "name": "stdout"
        }
      ]
    },
    {
      "cell_type": "code",
      "metadata": {
        "colab": {
          "base_uri": "https://localhost:8080/"
        },
        "id": "EgZBGJeopVl1",
        "outputId": "edaf994e-1e21-46a9-c86e-a75b97154ef4"
      },
      "source": [
        "history = model.fit(x_train,y_train,validation_data=(x_test,y_test),epochs=100,batch_size=64,verbose=1)"
      ],
      "execution_count": 32,
      "outputs": [
        {
          "output_type": "stream",
          "text": [
            "Epoch 1/100\n",
            "6/6 [==============================] - 11s 282ms/step - loss: 0.6826 - accuracy: 0.5701 - val_loss: 0.6728 - val_accuracy: 0.6023\n",
            "Epoch 2/100\n",
            "6/6 [==============================] - 0s 33ms/step - loss: 0.6712 - accuracy: 0.5961 - val_loss: 0.6745 - val_accuracy: 0.6023\n",
            "Epoch 3/100\n",
            "6/6 [==============================] - 0s 28ms/step - loss: 0.6702 - accuracy: 0.5934 - val_loss: 0.6749 - val_accuracy: 0.6023\n",
            "Epoch 4/100\n",
            "6/6 [==============================] - 0s 27ms/step - loss: 0.6821 - accuracy: 0.5597 - val_loss: 0.6724 - val_accuracy: 0.6023\n",
            "Epoch 5/100\n",
            "6/6 [==============================] - 0s 24ms/step - loss: 0.6749 - accuracy: 0.5853 - val_loss: 0.6745 - val_accuracy: 0.6023\n",
            "Epoch 6/100\n",
            "6/6 [==============================] - 0s 24ms/step - loss: 0.6817 - accuracy: 0.5800 - val_loss: 0.6733 - val_accuracy: 0.6023\n",
            "Epoch 7/100\n",
            "6/6 [==============================] - 0s 25ms/step - loss: 0.6632 - accuracy: 0.6071 - val_loss: 0.6757 - val_accuracy: 0.6023\n",
            "Epoch 8/100\n",
            "6/6 [==============================] - 0s 27ms/step - loss: 0.6652 - accuracy: 0.6056 - val_loss: 0.6728 - val_accuracy: 0.6023\n",
            "Epoch 9/100\n",
            "6/6 [==============================] - 0s 24ms/step - loss: 0.6616 - accuracy: 0.6105 - val_loss: 0.6721 - val_accuracy: 0.6023\n",
            "Epoch 10/100\n",
            "6/6 [==============================] - 0s 24ms/step - loss: 0.6542 - accuracy: 0.6166 - val_loss: 0.6724 - val_accuracy: 0.6023\n",
            "Epoch 11/100\n",
            "6/6 [==============================] - 0s 23ms/step - loss: 0.6634 - accuracy: 0.5996 - val_loss: 0.6779 - val_accuracy: 0.6023\n",
            "Epoch 12/100\n",
            "6/6 [==============================] - 0s 23ms/step - loss: 0.6575 - accuracy: 0.6040 - val_loss: 0.6722 - val_accuracy: 0.6023\n",
            "Epoch 13/100\n",
            "6/6 [==============================] - 0s 23ms/step - loss: 0.6569 - accuracy: 0.6040 - val_loss: 0.6722 - val_accuracy: 0.6023\n",
            "Epoch 14/100\n",
            "6/6 [==============================] - 0s 23ms/step - loss: 0.6530 - accuracy: 0.5949 - val_loss: 0.6732 - val_accuracy: 0.6023\n",
            "Epoch 15/100\n",
            "6/6 [==============================] - 0s 24ms/step - loss: 0.6524 - accuracy: 0.5950 - val_loss: 0.6748 - val_accuracy: 0.6023\n",
            "Epoch 16/100\n",
            "6/6 [==============================] - 0s 25ms/step - loss: 0.6416 - accuracy: 0.5976 - val_loss: 0.6758 - val_accuracy: 0.6023\n",
            "Epoch 17/100\n",
            "6/6 [==============================] - 0s 24ms/step - loss: 0.6489 - accuracy: 0.5825 - val_loss: 0.6724 - val_accuracy: 0.6023\n",
            "Epoch 18/100\n",
            "6/6 [==============================] - 0s 25ms/step - loss: 0.6409 - accuracy: 0.5931 - val_loss: 0.6723 - val_accuracy: 0.6023\n",
            "Epoch 19/100\n",
            "6/6 [==============================] - 0s 24ms/step - loss: 0.6360 - accuracy: 0.6217 - val_loss: 0.6732 - val_accuracy: 0.6023\n",
            "Epoch 20/100\n",
            "6/6 [==============================] - 0s 23ms/step - loss: 0.6408 - accuracy: 0.6116 - val_loss: 0.6753 - val_accuracy: 0.6023\n",
            "Epoch 21/100\n",
            "6/6 [==============================] - 0s 24ms/step - loss: 0.6248 - accuracy: 0.6135 - val_loss: 0.6721 - val_accuracy: 0.6023\n",
            "Epoch 22/100\n",
            "6/6 [==============================] - 0s 23ms/step - loss: 0.6356 - accuracy: 0.6161 - val_loss: 0.6731 - val_accuracy: 0.6023\n",
            "Epoch 23/100\n",
            "6/6 [==============================] - 0s 24ms/step - loss: 0.6456 - accuracy: 0.6036 - val_loss: 0.6735 - val_accuracy: 0.6023\n",
            "Epoch 24/100\n",
            "6/6 [==============================] - 0s 25ms/step - loss: 0.6415 - accuracy: 0.5832 - val_loss: 0.6731 - val_accuracy: 0.6023\n",
            "Epoch 25/100\n",
            "6/6 [==============================] - 0s 26ms/step - loss: 0.6423 - accuracy: 0.6013 - val_loss: 0.6726 - val_accuracy: 0.6023\n",
            "Epoch 26/100\n",
            "6/6 [==============================] - 0s 24ms/step - loss: 0.6231 - accuracy: 0.6076 - val_loss: 0.6722 - val_accuracy: 0.6023\n",
            "Epoch 27/100\n",
            "6/6 [==============================] - 0s 23ms/step - loss: 0.6346 - accuracy: 0.6259 - val_loss: 0.6728 - val_accuracy: 0.6023\n",
            "Epoch 28/100\n",
            "6/6 [==============================] - 0s 23ms/step - loss: 0.6406 - accuracy: 0.5989 - val_loss: 0.6743 - val_accuracy: 0.6023\n",
            "Epoch 29/100\n",
            "6/6 [==============================] - 0s 24ms/step - loss: 0.6315 - accuracy: 0.6166 - val_loss: 0.6722 - val_accuracy: 0.6023\n",
            "Epoch 30/100\n",
            "6/6 [==============================] - 0s 23ms/step - loss: 0.6331 - accuracy: 0.6130 - val_loss: 0.6728 - val_accuracy: 0.6023\n",
            "Epoch 31/100\n",
            "6/6 [==============================] - 0s 24ms/step - loss: 0.6400 - accuracy: 0.6144 - val_loss: 0.6723 - val_accuracy: 0.6023\n",
            "Epoch 32/100\n",
            "6/6 [==============================] - 0s 23ms/step - loss: 0.6383 - accuracy: 0.6164 - val_loss: 0.6722 - val_accuracy: 0.6023\n",
            "Epoch 33/100\n",
            "6/6 [==============================] - 0s 52ms/step - loss: 0.6378 - accuracy: 0.5945 - val_loss: 0.6753 - val_accuracy: 0.6023\n",
            "Epoch 34/100\n",
            "6/6 [==============================] - 0s 23ms/step - loss: 0.6335 - accuracy: 0.5854 - val_loss: 0.6753 - val_accuracy: 0.6023\n",
            "Epoch 35/100\n",
            "6/6 [==============================] - 0s 24ms/step - loss: 0.6446 - accuracy: 0.5843 - val_loss: 0.6733 - val_accuracy: 0.6023\n",
            "Epoch 36/100\n",
            "6/6 [==============================] - 0s 23ms/step - loss: 0.6466 - accuracy: 0.5953 - val_loss: 0.6722 - val_accuracy: 0.6023\n",
            "Epoch 37/100\n",
            "6/6 [==============================] - 0s 24ms/step - loss: 0.6474 - accuracy: 0.5839 - val_loss: 0.6725 - val_accuracy: 0.6023\n",
            "Epoch 38/100\n",
            "6/6 [==============================] - 0s 23ms/step - loss: 0.6314 - accuracy: 0.6282 - val_loss: 0.6721 - val_accuracy: 0.6023\n",
            "Epoch 39/100\n",
            "6/6 [==============================] - 0s 25ms/step - loss: 0.6416 - accuracy: 0.6031 - val_loss: 0.6737 - val_accuracy: 0.6023\n",
            "Epoch 40/100\n",
            "6/6 [==============================] - 0s 24ms/step - loss: 0.6564 - accuracy: 0.5862 - val_loss: 0.6728 - val_accuracy: 0.6023\n",
            "Epoch 41/100\n",
            "6/6 [==============================] - 0s 23ms/step - loss: 0.6336 - accuracy: 0.6316 - val_loss: 0.6721 - val_accuracy: 0.6023\n",
            "Epoch 42/100\n",
            "6/6 [==============================] - 0s 25ms/step - loss: 0.6453 - accuracy: 0.5897 - val_loss: 0.6727 - val_accuracy: 0.6023\n",
            "Epoch 43/100\n",
            "6/6 [==============================] - 0s 24ms/step - loss: 0.6400 - accuracy: 0.6098 - val_loss: 0.6730 - val_accuracy: 0.6023\n",
            "Epoch 44/100\n",
            "6/6 [==============================] - 0s 24ms/step - loss: 0.6303 - accuracy: 0.5796 - val_loss: 0.6729 - val_accuracy: 0.6023\n",
            "Epoch 45/100\n",
            "6/6 [==============================] - 0s 24ms/step - loss: 0.6472 - accuracy: 0.5982 - val_loss: 0.6728 - val_accuracy: 0.6023\n",
            "Epoch 46/100\n",
            "6/6 [==============================] - 0s 25ms/step - loss: 0.6304 - accuracy: 0.6124 - val_loss: 0.6722 - val_accuracy: 0.6023\n",
            "Epoch 47/100\n",
            "6/6 [==============================] - 0s 24ms/step - loss: 0.6314 - accuracy: 0.6176 - val_loss: 0.6724 - val_accuracy: 0.6023\n",
            "Epoch 48/100\n",
            "6/6 [==============================] - 0s 24ms/step - loss: 0.6620 - accuracy: 0.5764 - val_loss: 0.6750 - val_accuracy: 0.6023\n",
            "Epoch 49/100\n",
            "6/6 [==============================] - 0s 24ms/step - loss: 0.6408 - accuracy: 0.6008 - val_loss: 0.6735 - val_accuracy: 0.6023\n",
            "Epoch 50/100\n",
            "6/6 [==============================] - 0s 24ms/step - loss: 0.6386 - accuracy: 0.5957 - val_loss: 0.6733 - val_accuracy: 0.6023\n",
            "Epoch 51/100\n",
            "6/6 [==============================] - 0s 25ms/step - loss: 0.6262 - accuracy: 0.6427 - val_loss: 0.6721 - val_accuracy: 0.6023\n",
            "Epoch 52/100\n",
            "6/6 [==============================] - 0s 24ms/step - loss: 0.6355 - accuracy: 0.6035 - val_loss: 0.6729 - val_accuracy: 0.6023\n",
            "Epoch 53/100\n",
            "6/6 [==============================] - 0s 26ms/step - loss: 0.6315 - accuracy: 0.6237 - val_loss: 0.6735 - val_accuracy: 0.6023\n",
            "Epoch 54/100\n",
            "6/6 [==============================] - 0s 24ms/step - loss: 0.6412 - accuracy: 0.6110 - val_loss: 0.6742 - val_accuracy: 0.6023\n",
            "Epoch 55/100\n",
            "6/6 [==============================] - 0s 23ms/step - loss: 0.6321 - accuracy: 0.6190 - val_loss: 0.6730 - val_accuracy: 0.6023\n",
            "Epoch 56/100\n",
            "6/6 [==============================] - 0s 24ms/step - loss: 0.6320 - accuracy: 0.6162 - val_loss: 0.6723 - val_accuracy: 0.6023\n",
            "Epoch 57/100\n",
            "6/6 [==============================] - 0s 24ms/step - loss: 0.6565 - accuracy: 0.5859 - val_loss: 0.6721 - val_accuracy: 0.6023\n",
            "Epoch 58/100\n",
            "6/6 [==============================] - 0s 24ms/step - loss: 0.6392 - accuracy: 0.6266 - val_loss: 0.6721 - val_accuracy: 0.6023\n",
            "Epoch 59/100\n",
            "6/6 [==============================] - 0s 24ms/step - loss: 0.6258 - accuracy: 0.6271 - val_loss: 0.6731 - val_accuracy: 0.6023\n",
            "Epoch 60/100\n",
            "6/6 [==============================] - 0s 23ms/step - loss: 0.6360 - accuracy: 0.5919 - val_loss: 0.6733 - val_accuracy: 0.6023\n",
            "Epoch 61/100\n",
            "6/6 [==============================] - 0s 24ms/step - loss: 0.6330 - accuracy: 0.6133 - val_loss: 0.6726 - val_accuracy: 0.6023\n",
            "Epoch 62/100\n",
            "6/6 [==============================] - 0s 24ms/step - loss: 0.6478 - accuracy: 0.5642 - val_loss: 0.6727 - val_accuracy: 0.6023\n",
            "Epoch 63/100\n",
            "6/6 [==============================] - 0s 24ms/step - loss: 0.6293 - accuracy: 0.6216 - val_loss: 0.6724 - val_accuracy: 0.6023\n",
            "Epoch 64/100\n",
            "6/6 [==============================] - 0s 23ms/step - loss: 0.6515 - accuracy: 0.5853 - val_loss: 0.6733 - val_accuracy: 0.6023\n",
            "Epoch 65/100\n",
            "6/6 [==============================] - 0s 24ms/step - loss: 0.6328 - accuracy: 0.6134 - val_loss: 0.6723 - val_accuracy: 0.6023\n",
            "Epoch 66/100\n",
            "6/6 [==============================] - 0s 24ms/step - loss: 0.6370 - accuracy: 0.6008 - val_loss: 0.6721 - val_accuracy: 0.6023\n",
            "Epoch 67/100\n",
            "6/6 [==============================] - 0s 24ms/step - loss: 0.6561 - accuracy: 0.5696 - val_loss: 0.6723 - val_accuracy: 0.6023\n",
            "Epoch 68/100\n",
            "6/6 [==============================] - 0s 25ms/step - loss: 0.6261 - accuracy: 0.6411 - val_loss: 0.6722 - val_accuracy: 0.6023\n",
            "Epoch 69/100\n",
            "6/6 [==============================] - 0s 27ms/step - loss: 0.6358 - accuracy: 0.6171 - val_loss: 0.6729 - val_accuracy: 0.6023\n",
            "Epoch 70/100\n",
            "6/6 [==============================] - 0s 24ms/step - loss: 0.6464 - accuracy: 0.5858 - val_loss: 0.6743 - val_accuracy: 0.6023\n",
            "Epoch 71/100\n",
            "6/6 [==============================] - 0s 24ms/step - loss: 0.6399 - accuracy: 0.5863 - val_loss: 0.6748 - val_accuracy: 0.6023\n",
            "Epoch 72/100\n",
            "6/6 [==============================] - 0s 24ms/step - loss: 0.6445 - accuracy: 0.5697 - val_loss: 0.6738 - val_accuracy: 0.6023\n",
            "Epoch 73/100\n",
            "6/6 [==============================] - 0s 24ms/step - loss: 0.6342 - accuracy: 0.6087 - val_loss: 0.6723 - val_accuracy: 0.6023\n",
            "Epoch 74/100\n",
            "6/6 [==============================] - 0s 54ms/step - loss: 0.6450 - accuracy: 0.5937 - val_loss: 0.6721 - val_accuracy: 0.6023\n",
            "Epoch 75/100\n",
            "6/6 [==============================] - 0s 23ms/step - loss: 0.6388 - accuracy: 0.5918 - val_loss: 0.6721 - val_accuracy: 0.6023\n",
            "Epoch 76/100\n",
            "6/6 [==============================] - 0s 27ms/step - loss: 0.6376 - accuracy: 0.6141 - val_loss: 0.6721 - val_accuracy: 0.6023\n",
            "Epoch 77/100\n",
            "6/6 [==============================] - 0s 25ms/step - loss: 0.6339 - accuracy: 0.6202 - val_loss: 0.6725 - val_accuracy: 0.6023\n",
            "Epoch 78/100\n",
            "6/6 [==============================] - 0s 24ms/step - loss: 0.6376 - accuracy: 0.6006 - val_loss: 0.6729 - val_accuracy: 0.6023\n",
            "Epoch 79/100\n",
            "6/6 [==============================] - 0s 26ms/step - loss: 0.6443 - accuracy: 0.5991 - val_loss: 0.6727 - val_accuracy: 0.6023\n",
            "Epoch 80/100\n",
            "6/6 [==============================] - 0s 23ms/step - loss: 0.6320 - accuracy: 0.6178 - val_loss: 0.6730 - val_accuracy: 0.6023\n",
            "Epoch 81/100\n",
            "6/6 [==============================] - 0s 25ms/step - loss: 0.6325 - accuracy: 0.6286 - val_loss: 0.6725 - val_accuracy: 0.6023\n",
            "Epoch 82/100\n",
            "6/6 [==============================] - 0s 25ms/step - loss: 0.6359 - accuracy: 0.6309 - val_loss: 0.6725 - val_accuracy: 0.6023\n",
            "Epoch 83/100\n",
            "6/6 [==============================] - 0s 23ms/step - loss: 0.6379 - accuracy: 0.5963 - val_loss: 0.6741 - val_accuracy: 0.6023\n",
            "Epoch 84/100\n",
            "6/6 [==============================] - 0s 23ms/step - loss: 0.6508 - accuracy: 0.6037 - val_loss: 0.6733 - val_accuracy: 0.6023\n",
            "Epoch 85/100\n",
            "6/6 [==============================] - 0s 24ms/step - loss: 0.6335 - accuracy: 0.6202 - val_loss: 0.6722 - val_accuracy: 0.6023\n",
            "Epoch 86/100\n",
            "6/6 [==============================] - 0s 23ms/step - loss: 0.6267 - accuracy: 0.6247 - val_loss: 0.6721 - val_accuracy: 0.6023\n",
            "Epoch 87/100\n",
            "6/6 [==============================] - 0s 25ms/step - loss: 0.6372 - accuracy: 0.6144 - val_loss: 0.6721 - val_accuracy: 0.6023\n",
            "Epoch 88/100\n",
            "6/6 [==============================] - 0s 25ms/step - loss: 0.6413 - accuracy: 0.6217 - val_loss: 0.6722 - val_accuracy: 0.6023\n",
            "Epoch 89/100\n",
            "6/6 [==============================] - 0s 24ms/step - loss: 0.6360 - accuracy: 0.6205 - val_loss: 0.6734 - val_accuracy: 0.6023\n",
            "Epoch 90/100\n",
            "6/6 [==============================] - 0s 24ms/step - loss: 0.6456 - accuracy: 0.5837 - val_loss: 0.6738 - val_accuracy: 0.6023\n",
            "Epoch 91/100\n",
            "6/6 [==============================] - 0s 24ms/step - loss: 0.6409 - accuracy: 0.6132 - val_loss: 0.6730 - val_accuracy: 0.6023\n",
            "Epoch 92/100\n",
            "6/6 [==============================] - 0s 24ms/step - loss: 0.6356 - accuracy: 0.6230 - val_loss: 0.6723 - val_accuracy: 0.6023\n",
            "Epoch 93/100\n",
            "6/6 [==============================] - 0s 25ms/step - loss: 0.6292 - accuracy: 0.6176 - val_loss: 0.6722 - val_accuracy: 0.6023\n",
            "Epoch 94/100\n",
            "6/6 [==============================] - 0s 27ms/step - loss: 0.6391 - accuracy: 0.6023 - val_loss: 0.6728 - val_accuracy: 0.6023\n",
            "Epoch 95/100\n",
            "6/6 [==============================] - 0s 26ms/step - loss: 0.6222 - accuracy: 0.6229 - val_loss: 0.6726 - val_accuracy: 0.6023\n",
            "Epoch 96/100\n",
            "6/6 [==============================] - 0s 27ms/step - loss: 0.6489 - accuracy: 0.5792 - val_loss: 0.6737 - val_accuracy: 0.6023\n",
            "Epoch 97/100\n",
            "6/6 [==============================] - 0s 25ms/step - loss: 0.6302 - accuracy: 0.6096 - val_loss: 0.6733 - val_accuracy: 0.6023\n",
            "Epoch 98/100\n",
            "6/6 [==============================] - 0s 25ms/step - loss: 0.6358 - accuracy: 0.6088 - val_loss: 0.6721 - val_accuracy: 0.6023\n",
            "Epoch 99/100\n",
            "6/6 [==============================] - 0s 25ms/step - loss: 0.6364 - accuracy: 0.6035 - val_loss: 0.6721 - val_accuracy: 0.6023\n",
            "Epoch 100/100\n",
            "6/6 [==============================] - 0s 26ms/step - loss: 0.6311 - accuracy: 0.6059 - val_loss: 0.6722 - val_accuracy: 0.6023\n"
          ],
          "name": "stdout"
        }
      ]
    },
    {
      "cell_type": "code",
      "metadata": {
        "id": "EKd1YrJ7pVon"
      },
      "source": [
        "train_predict = model.predict(x_train)\r\n",
        "test_predict = model.predict(x_test)"
      ],
      "execution_count": 33,
      "outputs": []
    },
    {
      "cell_type": "code",
      "metadata": {
        "colab": {
          "base_uri": "https://localhost:8080/",
          "height": 295
        },
        "id": "Ls4p-zb6HQOi",
        "outputId": "111d3373-c035-469a-daba-078b324a431f"
      },
      "source": [
        "plt.figure(figsize=(6, 4))\r\n",
        "#plt.plot(history.history['accuracy'], \"g--\", label=\"Accuracy of training data\")\r\n",
        "plt.plot(history.history['val_accuracy'], \"g\", label=\"Accuracy of validation data\")\r\n",
        "#plt.plot(history.history['loss'], \"r--\", label=\"Loss of training data\")\r\n",
        "plt.plot(history.history['val_loss'], \"r\", label=\"Loss of validation data\")\r\n",
        "plt.title('Model Accuracy and Loss')\r\n",
        "plt.ylabel('Accuracy and Loss')\r\n",
        "plt.xlabel('Training Epoch')\r\n",
        "plt.ylim(0)\r\n",
        "plt.grid()\r\n",
        "plt.legend()\r\n",
        "plt.show()"
      ],
      "execution_count": 39,
      "outputs": [
        {
          "output_type": "display_data",
          "data": {
            "image/png": "[encoded data removed]",
            "text/plain": [
              "<Figure size 432x288 with 1 Axes>"
            ]
          },
          "metadata": {
            "tags": [],
            "needs_background": "light"
          }
        }
      ]
    },
    {
      "cell_type": "code",
      "metadata": {
        "id": "xkev3ka2pnnX"
      },
      "source": [
        "import seaborn as sns\r\n",
        "from sklearn.metrics import confusion_matrix, f1_score\r\n",
        "\r\n",
        "y_pred_test = model.predict(x_test)\r\n",
        "y_true = y_test[:,0]\r\n",
        "y_pred = (y_pred_test[:,0] > 0.5)*1 #.astype(int)\r\n",
        "\r\n",
        "\r\n"
      ],
      "execution_count": 50,
      "outputs": []
    },
    {
      "cell_type": "code",
      "metadata": {
        "colab": {
          "base_uri": "https://localhost:8080/"
        },
        "id": "RTvidvUdpnr_",
        "outputId": "4d806b07-d379-4d16-bd27-a2cc6dff5c39"
      },
      "source": [
        "cf_mat = confusion_matrix(y_true, y_pred)\r\n",
        "f1_score = f1_score(y_true, y_pred)\r\n",
        "\r\n",
        "print(\"\\nPercentage of UP on test data: %0.2f\" % np.mean(100*y_true))\r\n",
        "print(\"\\nPercentage of UP on predicted test data: %0.2f\" % np.mean(100*y_pred))\r\n",
        "print(\"\\nConfusion matrix on test data:\\n\", cf_mat)\r\n",
        "print(\"\\nF1 score on test data: %0.2f\" % f1_score)"
      ],
      "execution_count": null,
      "outputs": [
        {
          "output_type": "stream",
          "text": [
            "\n",
            "Percentage of UP on test data: 60.23\n",
            "\n",
            "Percentage of UP on predicted test data: 100.00\n",
            "\n",
            "Confusion matrix on test data:\n",
            " [[ 0 35]\n",
            " [ 0 53]]\n",
            "\n",
            "F1 score on test data: 0.75\n"
          ],
          "name": "stdout"
        }
      ]
    },
    {
      "cell_type": "code",
      "metadata": {
        "colab": {
          "base_uri": "https://localhost:8080/",
          "height": 286
        },
        "id": "Ri8yi-GmRHxV",
        "outputId": "8fd75a5b-5116-48f3-9f3c-0af2b094de75"
      },
      "source": [
        "sns.heatmap(cf_mat/np.sum(cf_mat), annot=True, \r\n",
        "            fmt='.2%', cmap='Blues')"
      ],
      "execution_count": 61,
      "outputs": [
        {
          "output_type": "execute_result",
          "data": {
            "text/plain": [
              "<matplotlib.axes._subplots.AxesSubplot at 0x7f0bbd7a45c0>"
            ]
          },
          "metadata": {
            "tags": []
          },
          "execution_count": 61
        },
        {
          "output_type": "display_data",
          "data": {
            "image/png": "[encoded data removed]",
            "text/plain": [
              "<Figure size 432x288 with 2 Axes>"
            ]
          },
          "metadata": {
            "tags": [],
            "needs_background": "light"
          }
        }
      ]
    },
    {
      "cell_type": "markdown",
      "metadata": {
        "id": "5e9PCmGkNKqC"
      },
      "source": [
        "# **CNN model**"
      ]
    },
    {
      "cell_type": "code",
      "metadata": {
        "id": "aSx05W72pVvI"
      },
      "source": [
        "from tensorflow.keras.models import Sequential\r\n",
        "from tensorflow.keras.layers import Dense, Dropout, Reshape\r\n",
        "from tensorflow.keras.layers import Conv1D, Lambda, Flatten"
      ],
      "execution_count": 40,
      "outputs": []
    },
    {
      "cell_type": "markdown",
      "metadata": {
        "id": "STMLp_WN2j9-"
      },
      "source": [
        ""
      ]
    },
    {
      "cell_type": "code",
      "metadata": {
        "id": "yAvqadkFm0i6"
      },
      "source": [
        "def build_cnn1d_model(input_shape, num_classes):\r\n",
        "    \r\n",
        "    ## 1D CNN neural network\r\n",
        "    model = Sequential()\r\n",
        "    model.add(Reshape(input_shape, input_shape=input_shape))\r\n",
        "    model.add(Conv1D(8, 16, activation='relu', use_bias=False, padding=\"causal\", strides=1))\r\n",
        "    model.add(Conv1D(8, 16, activation='relu', padding=\"causal\", dilation_rate=2))\r\n",
        "    #model.add(Conv1D(16, 2, activation='relu', padding=\"causal\", dilation_rate=4))\r\n",
        "    #model.add(Conv1D(16, 2, activation='relu', padding=\"causal\", dilation_rate=8))\r\n",
        "    model.add(Lambda(lambda x: x[:, -1, :])) ## select just the last observations\r\n",
        "    model.add(Flatten())\r\n",
        "    model.add(Dense(num_classes, activation='softmax'))\r\n",
        "    \r\n",
        "    return(model)"
      ],
      "execution_count": 41,
      "outputs": []
    },
    {
      "cell_type": "code",
      "metadata": {
        "colab": {
          "base_uri": "https://localhost:8080/"
        },
        "id": "8WQXgkK-KAYw",
        "outputId": "f1b4d0f4-90c1-4b2a-b2be-e713cb0d74c3"
      },
      "source": [
        "input_shape = x_train[0].shape\r\n",
        "num_classes = 2\r\n",
        "\r\n",
        "model = build_cnn1d_model(input_shape, num_classes)\r\n",
        "\r\n",
        "model.build((None,) + input_shape)\r\n",
        "\r\n",
        "print(model.summary())"
      ],
      "execution_count": 42,
      "outputs": [
        {
          "output_type": "stream",
          "text": [
            "Model: \"sequential_1\"\n",
            "_________________________________________________________________\n",
            "Layer (type)                 Output Shape              Param #   \n",
            "=================================================================\n",
            "reshape (Reshape)            (None, 100, 10)           0         \n",
            "_________________________________________________________________\n",
            "conv1d (Conv1D)              (None, 100, 8)            1280      \n",
            "_________________________________________________________________\n",
            "conv1d_1 (Conv1D)            (None, 100, 8)            1032      \n",
            "_________________________________________________________________\n",
            "lambda (Lambda)              (None, 8)                 0         \n",
            "_________________________________________________________________\n",
            "flatten (Flatten)            (None, 8)                 0         \n",
            "_________________________________________________________________\n",
            "dense_1 (Dense)              (None, 2)                 18        \n",
            "=================================================================\n",
            "Total params: 2,330\n",
            "Trainable params: 2,330\n",
            "Non-trainable params: 0\n",
            "_________________________________________________________________\n",
            "None\n"
          ],
          "name": "stdout"
        }
      ]
    },
    {
      "cell_type": "code",
      "metadata": {
        "colab": {
          "base_uri": "https://localhost:8080/"
        },
        "id": "8rwBHHJ7KChF",
        "outputId": "8e9ceb93-f2c3-4e9a-9251-f69902be7dcd"
      },
      "source": [
        "## hyper-parameters\r\n",
        "BATCH_SIZE = 32\r\n",
        "EPOCHS = 100\r\n",
        "\r\n",
        "## compile model with optimizer and loss function\r\n",
        "model.compile(loss='categorical_crossentropy',\r\n",
        "              optimizer='adam', metrics=['accuracy'])\r\n",
        "\r\n",
        "## fit!\r\n",
        "history = model.fit(x_train,\r\n",
        "                    y_train,\r\n",
        "                    batch_size=BATCH_SIZE,\r\n",
        "                    epochs=EPOCHS,\r\n",
        "                    validation_split=0.2,\r\n",
        "                    verbose=1)"
      ],
      "execution_count": 46,
      "outputs": [
        {
          "output_type": "stream",
          "text": [
            "Epoch 1/100\n",
            "9/9 [==============================] - 1s 28ms/step - loss: 642893619.2000 - accuracy: 0.5261 - val_loss: 6174877696.0000 - val_accuracy: 0.4857\n",
            "Epoch 2/100\n",
            "9/9 [==============================] - 0s 7ms/step - loss: 692768630.4000 - accuracy: 0.4646 - val_loss: 1531415040.0000 - val_accuracy: 0.4714\n",
            "Epoch 3/100\n",
            "9/9 [==============================] - 0s 7ms/step - loss: 364636763.2000 - accuracy: 0.5170 - val_loss: 2417242880.0000 - val_accuracy: 0.5000\n",
            "Epoch 4/100\n",
            "9/9 [==============================] - 0s 7ms/step - loss: 362628780.8000 - accuracy: 0.5113 - val_loss: 4608489984.0000 - val_accuracy: 0.5143\n",
            "Epoch 5/100\n",
            "9/9 [==============================] - 0s 7ms/step - loss: 351203667.2000 - accuracy: 0.6311 - val_loss: 2377062912.0000 - val_accuracy: 0.5000\n",
            "Epoch 6/100\n",
            "9/9 [==============================] - 0s 7ms/step - loss: 364505158.4000 - accuracy: 0.5164 - val_loss: 1916860032.0000 - val_accuracy: 0.4714\n",
            "Epoch 7/100\n",
            "9/9 [==============================] - 0s 7ms/step - loss: 304294526.4000 - accuracy: 0.5729 - val_loss: 2080423040.0000 - val_accuracy: 0.4714\n",
            "Epoch 8/100\n",
            "9/9 [==============================] - 0s 8ms/step - loss: 282972724.8000 - accuracy: 0.5545 - val_loss: 2774447872.0000 - val_accuracy: 0.5000\n",
            "Epoch 9/100\n",
            "9/9 [==============================] - 0s 7ms/step - loss: 304615001.6000 - accuracy: 0.5204 - val_loss: 1196879104.0000 - val_accuracy: 0.4571\n",
            "Epoch 10/100\n",
            "9/9 [==============================] - 0s 7ms/step - loss: 173717971.2000 - accuracy: 0.5395 - val_loss: 684004352.0000 - val_accuracy: 0.5571\n",
            "Epoch 11/100\n",
            "9/9 [==============================] - 0s 8ms/step - loss: 248375462.4000 - accuracy: 0.4555 - val_loss: 694145280.0000 - val_accuracy: 0.5143\n",
            "Epoch 12/100\n",
            "9/9 [==============================] - 0s 47ms/step - loss: 331955776.0000 - accuracy: 0.4143 - val_loss: 1533641856.0000 - val_accuracy: 0.5143\n",
            "Epoch 13/100\n",
            "9/9 [==============================] - 0s 8ms/step - loss: 186269905.6000 - accuracy: 0.4548 - val_loss: 755671680.0000 - val_accuracy: 0.5143\n",
            "Epoch 14/100\n",
            "9/9 [==============================] - 0s 7ms/step - loss: 94867831.2000 - accuracy: 0.5857 - val_loss: 697970496.0000 - val_accuracy: 0.5714\n",
            "Epoch 15/100\n",
            "9/9 [==============================] - 0s 7ms/step - loss: 119046619.2000 - accuracy: 0.5677 - val_loss: 2394361856.0000 - val_accuracy: 0.5000\n",
            "Epoch 16/100\n",
            "9/9 [==============================] - 0s 8ms/step - loss: 267230169.6000 - accuracy: 0.5300 - val_loss: 2486694656.0000 - val_accuracy: 0.5000\n",
            "Epoch 17/100\n",
            "9/9 [==============================] - 0s 7ms/step - loss: 375038624.0000 - accuracy: 0.4826 - val_loss: 2138827776.0000 - val_accuracy: 0.5000\n",
            "Epoch 18/100\n",
            "9/9 [==============================] - 0s 7ms/step - loss: 347311974.4000 - accuracy: 0.4801 - val_loss: 2423847936.0000 - val_accuracy: 0.5000\n",
            "Epoch 19/100\n",
            "9/9 [==============================] - 0s 7ms/step - loss: 353287001.6000 - accuracy: 0.5084 - val_loss: 3013312512.0000 - val_accuracy: 0.5000\n",
            "Epoch 20/100\n",
            "9/9 [==============================] - 0s 7ms/step - loss: 279809252.8000 - accuracy: 0.5218 - val_loss: 1236950528.0000 - val_accuracy: 0.5143\n",
            "Epoch 21/100\n",
            "9/9 [==============================] - 0s 7ms/step - loss: 286960659.2000 - accuracy: 0.4801 - val_loss: 2395038976.0000 - val_accuracy: 0.5000\n",
            "Epoch 22/100\n",
            "9/9 [==============================] - 0s 7ms/step - loss: 316558817.6000 - accuracy: 0.5335 - val_loss: 3418424320.0000 - val_accuracy: 0.4857\n",
            "Epoch 23/100\n",
            "9/9 [==============================] - 0s 8ms/step - loss: 294788217.6000 - accuracy: 0.5282 - val_loss: 782288064.0000 - val_accuracy: 0.5714\n",
            "Epoch 24/100\n",
            "9/9 [==============================] - 0s 7ms/step - loss: 110997515.6000 - accuracy: 0.5511 - val_loss: 1436642816.0000 - val_accuracy: 0.5143\n",
            "Epoch 25/100\n",
            "9/9 [==============================] - 0s 7ms/step - loss: 153552338.4000 - accuracy: 0.5217 - val_loss: 666786816.0000 - val_accuracy: 0.5714\n",
            "Epoch 26/100\n",
            "9/9 [==============================] - 0s 8ms/step - loss: 95767996.8000 - accuracy: 0.5653 - val_loss: 1731686144.0000 - val_accuracy: 0.5000\n",
            "Epoch 27/100\n",
            "9/9 [==============================] - 0s 7ms/step - loss: 246841398.4000 - accuracy: 0.4820 - val_loss: 1528645376.0000 - val_accuracy: 0.5000\n",
            "Epoch 28/100\n",
            "9/9 [==============================] - 0s 7ms/step - loss: 179907646.4000 - accuracy: 0.4941 - val_loss: 672856640.0000 - val_accuracy: 0.5429\n",
            "Epoch 29/100\n",
            "9/9 [==============================] - 0s 7ms/step - loss: 71978548.6000 - accuracy: 0.5652 - val_loss: 637295616.0000 - val_accuracy: 0.5429\n",
            "Epoch 30/100\n",
            "9/9 [==============================] - 0s 7ms/step - loss: 85132330.4000 - accuracy: 0.5596 - val_loss: 766808512.0000 - val_accuracy: 0.5000\n",
            "Epoch 31/100\n",
            "9/9 [==============================] - 0s 7ms/step - loss: 192515881.6000 - accuracy: 0.5615 - val_loss: 2623031040.0000 - val_accuracy: 0.5143\n",
            "Epoch 32/100\n",
            "9/9 [==============================] - 0s 8ms/step - loss: 268265086.4000 - accuracy: 0.5525 - val_loss: 2435566080.0000 - val_accuracy: 0.5143\n",
            "Epoch 33/100\n",
            "9/9 [==============================] - 0s 7ms/step - loss: 255875971.2000 - accuracy: 0.5903 - val_loss: 1297887104.0000 - val_accuracy: 0.4714\n",
            "Epoch 34/100\n",
            "9/9 [==============================] - 0s 7ms/step - loss: 191129715.2000 - accuracy: 0.6084 - val_loss: 2595127808.0000 - val_accuracy: 0.5143\n",
            "Epoch 35/100\n",
            "9/9 [==============================] - 0s 7ms/step - loss: 198120203.2000 - accuracy: 0.5841 - val_loss: 631436288.0000 - val_accuracy: 0.5571\n",
            "Epoch 36/100\n",
            "9/9 [==============================] - 0s 7ms/step - loss: 104197403.6000 - accuracy: 0.5356 - val_loss: 1565360256.0000 - val_accuracy: 0.5000\n",
            "Epoch 37/100\n",
            "9/9 [==============================] - 0s 7ms/step - loss: 354462846.4000 - accuracy: 0.5370 - val_loss: 4820659712.0000 - val_accuracy: 0.4857\n",
            "Epoch 38/100\n",
            "9/9 [==============================] - 0s 7ms/step - loss: 616642921.6000 - accuracy: 0.5034 - val_loss: 3239137792.0000 - val_accuracy: 0.4857\n",
            "Epoch 39/100\n",
            "9/9 [==============================] - 0s 7ms/step - loss: 514357619.2000 - accuracy: 0.4782 - val_loss: 3203233536.0000 - val_accuracy: 0.5143\n",
            "Epoch 40/100\n",
            "9/9 [==============================] - 0s 7ms/step - loss: 363222912.0000 - accuracy: 0.5680 - val_loss: 2409689600.0000 - val_accuracy: 0.5000\n",
            "Epoch 41/100\n",
            "9/9 [==============================] - 0s 7ms/step - loss: 288733803.2000 - accuracy: 0.6107 - val_loss: 1236514048.0000 - val_accuracy: 0.4714\n",
            "Epoch 42/100\n",
            "9/9 [==============================] - 0s 7ms/step - loss: 144128424.8000 - accuracy: 0.5665 - val_loss: 632114496.0000 - val_accuracy: 0.5714\n",
            "Epoch 43/100\n",
            "9/9 [==============================] - 0s 8ms/step - loss: 81230213.2000 - accuracy: 0.5479 - val_loss: 1221879808.0000 - val_accuracy: 0.5143\n",
            "Epoch 44/100\n",
            "9/9 [==============================] - 0s 8ms/step - loss: 138438724.0000 - accuracy: 0.5421 - val_loss: 1371515008.0000 - val_accuracy: 0.4429\n",
            "Epoch 45/100\n",
            "9/9 [==============================] - 0s 8ms/step - loss: 184741064.8000 - accuracy: 0.6035 - val_loss: 617714688.0000 - val_accuracy: 0.6000\n",
            "Epoch 46/100\n",
            "9/9 [==============================] - 0s 8ms/step - loss: 182835096.8000 - accuracy: 0.5434 - val_loss: 1348823424.0000 - val_accuracy: 0.5000\n",
            "Epoch 47/100\n",
            "9/9 [==============================] - 0s 8ms/step - loss: 127255824.8000 - accuracy: 0.5392 - val_loss: 588656256.0000 - val_accuracy: 0.5857\n",
            "Epoch 48/100\n",
            "9/9 [==============================] - 0s 7ms/step - loss: 103869552.8000 - accuracy: 0.5524 - val_loss: 618676224.0000 - val_accuracy: 0.5429\n",
            "Epoch 49/100\n",
            "9/9 [==============================] - 0s 8ms/step - loss: 71012929.6000 - accuracy: 0.6050 - val_loss: 563733312.0000 - val_accuracy: 0.5857\n",
            "Epoch 50/100\n",
            "9/9 [==============================] - 0s 7ms/step - loss: 60768973.2000 - accuracy: 0.6126 - val_loss: 1612936704.0000 - val_accuracy: 0.5000\n",
            "Epoch 51/100\n",
            "9/9 [==============================] - 0s 7ms/step - loss: 275903848.0000 - accuracy: 0.5375 - val_loss: 1760870016.0000 - val_accuracy: 0.5000\n",
            "Epoch 52/100\n",
            "9/9 [==============================] - 0s 8ms/step - loss: 326093948.8000 - accuracy: 0.4972 - val_loss: 1870306432.0000 - val_accuracy: 0.4857\n",
            "Epoch 53/100\n",
            "9/9 [==============================] - 0s 7ms/step - loss: 364857102.4000 - accuracy: 0.5070 - val_loss: 4197103360.0000 - val_accuracy: 0.5143\n",
            "Epoch 54/100\n",
            "9/9 [==============================] - 0s 8ms/step - loss: 698267376.0000 - accuracy: 0.6132 - val_loss: 5510523904.0000 - val_accuracy: 0.4857\n",
            "Epoch 55/100\n",
            "9/9 [==============================] - 0s 8ms/step - loss: 627366544.0000 - accuracy: 0.4742 - val_loss: 2255515648.0000 - val_accuracy: 0.5143\n",
            "Epoch 56/100\n",
            "9/9 [==============================] - 0s 22ms/step - loss: 194908480.0000 - accuracy: 0.5846 - val_loss: 626974592.0000 - val_accuracy: 0.5143\n",
            "Epoch 57/100\n",
            "9/9 [==============================] - 0s 9ms/step - loss: 108461567.2000 - accuracy: 0.5569 - val_loss: 938663104.0000 - val_accuracy: 0.5571\n",
            "Epoch 58/100\n",
            "9/9 [==============================] - 0s 7ms/step - loss: 117811239.2000 - accuracy: 0.4860 - val_loss: 809378048.0000 - val_accuracy: 0.5000\n",
            "Epoch 59/100\n",
            "9/9 [==============================] - 0s 8ms/step - loss: 172749129.6000 - accuracy: 0.5280 - val_loss: 2569619712.0000 - val_accuracy: 0.5143\n",
            "Epoch 60/100\n",
            "9/9 [==============================] - 0s 8ms/step - loss: 368854598.4000 - accuracy: 0.5060 - val_loss: 673194304.0000 - val_accuracy: 0.5000\n",
            "Epoch 61/100\n",
            "9/9 [==============================] - 0s 7ms/step - loss: 148749552.8000 - accuracy: 0.5865 - val_loss: 636740096.0000 - val_accuracy: 0.5429\n",
            "Epoch 62/100\n",
            "9/9 [==============================] - 0s 7ms/step - loss: 169518331.2000 - accuracy: 0.5340 - val_loss: 969191872.0000 - val_accuracy: 0.5286\n",
            "Epoch 63/100\n",
            "9/9 [==============================] - 0s 8ms/step - loss: 107699882.4000 - accuracy: 0.5435 - val_loss: 533507392.0000 - val_accuracy: 0.5857\n",
            "Epoch 64/100\n",
            "9/9 [==============================] - 0s 7ms/step - loss: 88173250.4000 - accuracy: 0.5670 - val_loss: 541888640.0000 - val_accuracy: 0.5571\n",
            "Epoch 65/100\n",
            "9/9 [==============================] - 0s 7ms/step - loss: 86722180.8000 - accuracy: 0.5796 - val_loss: 541406208.0000 - val_accuracy: 0.5571\n",
            "Epoch 66/100\n",
            "9/9 [==============================] - 0s 7ms/step - loss: 99038220.0000 - accuracy: 0.5485 - val_loss: 608754944.0000 - val_accuracy: 0.5429\n",
            "Epoch 67/100\n",
            "9/9 [==============================] - 0s 8ms/step - loss: 143143335.1000 - accuracy: 0.5546 - val_loss: 1618090240.0000 - val_accuracy: 0.4714\n",
            "Epoch 68/100\n",
            "9/9 [==============================] - 0s 7ms/step - loss: 167993040.0000 - accuracy: 0.5806 - val_loss: 614956608.0000 - val_accuracy: 0.5000\n",
            "Epoch 69/100\n",
            "9/9 [==============================] - 0s 7ms/step - loss: 157729938.4000 - accuracy: 0.5042 - val_loss: 2413138432.0000 - val_accuracy: 0.5143\n",
            "Epoch 70/100\n",
            "9/9 [==============================] - 0s 8ms/step - loss: 219965571.2000 - accuracy: 0.6096 - val_loss: 537576960.0000 - val_accuracy: 0.6000\n",
            "Epoch 71/100\n",
            "9/9 [==============================] - 0s 8ms/step - loss: 82708276.4000 - accuracy: 0.6296 - val_loss: 597056640.0000 - val_accuracy: 0.4857\n",
            "Epoch 72/100\n",
            "9/9 [==============================] - 0s 7ms/step - loss: 110894736.0000 - accuracy: 0.6611 - val_loss: 1648736128.0000 - val_accuracy: 0.5000\n",
            "Epoch 73/100\n",
            "9/9 [==============================] - 0s 7ms/step - loss: 162151643.2000 - accuracy: 0.5622 - val_loss: 1585873536.0000 - val_accuracy: 0.5000\n",
            "Epoch 74/100\n",
            "9/9 [==============================] - 0s 8ms/step - loss: 229975771.2000 - accuracy: 0.5195 - val_loss: 1382786304.0000 - val_accuracy: 0.5000\n",
            "Epoch 75/100\n",
            "9/9 [==============================] - 0s 7ms/step - loss: 141017017.6000 - accuracy: 0.5249 - val_loss: 2095118976.0000 - val_accuracy: 0.5000\n",
            "Epoch 76/100\n",
            "9/9 [==============================] - 0s 7ms/step - loss: 194046014.4000 - accuracy: 0.5250 - val_loss: 527337952.0000 - val_accuracy: 0.5429\n",
            "Epoch 77/100\n",
            "9/9 [==============================] - 0s 7ms/step - loss: 142214045.6000 - accuracy: 0.4771 - val_loss: 488118816.0000 - val_accuracy: 0.5714\n",
            "Epoch 78/100\n",
            "9/9 [==============================] - 0s 7ms/step - loss: 72583788.4000 - accuracy: 0.5206 - val_loss: 823032192.0000 - val_accuracy: 0.4714\n",
            "Epoch 79/100\n",
            "9/9 [==============================] - 0s 8ms/step - loss: 71897952.0000 - accuracy: 0.5736 - val_loss: 478903456.0000 - val_accuracy: 0.5857\n",
            "Epoch 80/100\n",
            "9/9 [==============================] - 0s 8ms/step - loss: 83880947.2000 - accuracy: 0.5545 - val_loss: 727627776.0000 - val_accuracy: 0.4714\n",
            "Epoch 81/100\n",
            "9/9 [==============================] - 0s 8ms/step - loss: 127699750.4000 - accuracy: 0.5730 - val_loss: 590018880.0000 - val_accuracy: 0.5143\n",
            "Epoch 82/100\n",
            "9/9 [==============================] - 0s 8ms/step - loss: 92859582.4000 - accuracy: 0.5184 - val_loss: 472506176.0000 - val_accuracy: 0.5714\n",
            "Epoch 83/100\n",
            "9/9 [==============================] - 0s 7ms/step - loss: 56395403.6000 - accuracy: 0.5824 - val_loss: 453283616.0000 - val_accuracy: 0.6000\n",
            "Epoch 84/100\n",
            "9/9 [==============================] - 0s 7ms/step - loss: 72692175.6000 - accuracy: 0.5238 - val_loss: 460401568.0000 - val_accuracy: 0.5571\n",
            "Epoch 85/100\n",
            "9/9 [==============================] - 0s 8ms/step - loss: 108062703.2000 - accuracy: 0.5467 - val_loss: 905877440.0000 - val_accuracy: 0.5286\n",
            "Epoch 86/100\n",
            "9/9 [==============================] - 0s 7ms/step - loss: 104990239.2000 - accuracy: 0.5559 - val_loss: 724111936.0000 - val_accuracy: 0.5714\n",
            "Epoch 87/100\n",
            "9/9 [==============================] - 0s 23ms/step - loss: 125698643.6000 - accuracy: 0.5118 - val_loss: 1955270272.0000 - val_accuracy: 0.5000\n",
            "Epoch 88/100\n",
            "9/9 [==============================] - 0s 8ms/step - loss: 188798843.2000 - accuracy: 0.4968 - val_loss: 776350912.0000 - val_accuracy: 0.5857\n",
            "Epoch 89/100\n",
            "9/9 [==============================] - 0s 8ms/step - loss: 111257293.6000 - accuracy: 0.5576 - val_loss: 567479744.0000 - val_accuracy: 0.5286\n",
            "Epoch 90/100\n",
            "9/9 [==============================] - 0s 7ms/step - loss: 176135246.8000 - accuracy: 0.6601 - val_loss: 1858706176.0000 - val_accuracy: 0.5000\n",
            "Epoch 91/100\n",
            "9/9 [==============================] - 0s 7ms/step - loss: 152719092.8000 - accuracy: 0.5575 - val_loss: 566087808.0000 - val_accuracy: 0.5143\n",
            "Epoch 92/100\n",
            "9/9 [==============================] - 0s 8ms/step - loss: 134379077.6000 - accuracy: 0.5148 - val_loss: 502415136.0000 - val_accuracy: 0.5714\n",
            "Epoch 93/100\n",
            "9/9 [==============================] - 0s 8ms/step - loss: 75998710.4000 - accuracy: 0.5319 - val_loss: 463552800.0000 - val_accuracy: 0.5857\n",
            "Epoch 94/100\n",
            "9/9 [==============================] - 0s 7ms/step - loss: 85050619.2000 - accuracy: 0.5821 - val_loss: 450174400.0000 - val_accuracy: 0.6000\n",
            "Epoch 95/100\n",
            "9/9 [==============================] - 0s 8ms/step - loss: 106359410.4000 - accuracy: 0.5682 - val_loss: 714436160.0000 - val_accuracy: 0.5714\n",
            "Epoch 96/100\n",
            "9/9 [==============================] - 0s 8ms/step - loss: 179226268.8000 - accuracy: 0.5893 - val_loss: 806539008.0000 - val_accuracy: 0.5429\n",
            "Epoch 97/100\n",
            "9/9 [==============================] - 0s 7ms/step - loss: 71527750.4000 - accuracy: 0.5209 - val_loss: 1057964736.0000 - val_accuracy: 0.4571\n",
            "Epoch 98/100\n",
            "9/9 [==============================] - 0s 7ms/step - loss: 140583908.8000 - accuracy: 0.6486 - val_loss: 521010496.0000 - val_accuracy: 0.5714\n",
            "Epoch 99/100\n",
            "9/9 [==============================] - 0s 7ms/step - loss: 94544410.4000 - accuracy: 0.5554 - val_loss: 507358176.0000 - val_accuracy: 0.5714\n",
            "Epoch 100/100\n",
            "9/9 [==============================] - 0s 7ms/step - loss: 67931721.2000 - accuracy: 0.5915 - val_loss: 463924224.0000 - val_accuracy: 0.5857\n"
          ],
          "name": "stdout"
        }
      ]
    },
    {
      "cell_type": "code",
      "metadata": {
        "colab": {
          "base_uri": "https://localhost:8080/",
          "height": 295
        },
        "id": "1hGLcwQjKDna",
        "outputId": "dcb46cdd-8d56-49ec-e9b0-63f96473293e"
      },
      "source": [
        "plt.figure(figsize=(6, 4))\r\n",
        "plt.plot(history.history['accuracy'], \"r\", label=\"Accuracy of training data\")\r\n",
        "plt.plot(history.history['val_accuracy'], \"g\", label=\"Accuracy of validation data\")\r\n",
        "#plt.plot(history.history['loss'], \"r--\", label=\"Loss of training data\")\r\n",
        "#plt.plot(history.history['val_loss'], \"r\", label=\"Loss of validation data\")\r\n",
        "plt.title('Model Accuracy and Loss')\r\n",
        "plt.ylabel('Accuracy and Loss')\r\n",
        "plt.xlabel('Training Epoch')\r\n",
        "plt.ylim(0)\r\n",
        "plt.grid()\r\n",
        "plt.legend()\r\n",
        "plt.show()"
      ],
      "execution_count": 57,
      "outputs": [
        {
          "output_type": "display_data",
          "data": {
            "image/png": "[encoded data removed]",
            "text/plain": [
              "<Figure size 432x288 with 1 Axes>"
            ]
          },
          "metadata": {
            "tags": [],
            "needs_background": "light"
          }
        }
      ]
    },
    {
      "cell_type": "code",
      "metadata": {
        "colab": {
          "base_uri": "https://localhost:8080/"
        },
        "id": "Jy7BHdN7KDsS",
        "outputId": "85c2da54-73fa-46f1-bba9-018b5ed8ce00"
      },
      "source": [
        "import seaborn as sns\r\n",
        "from sklearn.metrics import confusion_matrix, f1_score\r\n",
        "\r\n",
        "y_pred_test = model.predict(x_test)\r\n",
        "y_true = y_test[:,0]\r\n",
        "y_pred = (y_pred_test[:,0] > 0.5) #.astype(int)\r\n",
        "\r\n",
        "\r\n",
        "cf_mat = confusion_matrix(y_true, y_pred)\r\n",
        "f1_score = f1_score(y_true, y_pred)e\r\n",
        "\r\n",
        "print(\"\\nPercentage of UP on test data: %0.2f\" % np.mean(100*y_true))\r\n",
        "print(\"\\nConfusion matrix on test data:\\n\", cf_mat)\r\n",
        "print(\"\\nF1 score on test data: %0.2f\" % f1_score)"
      ],
      "execution_count": 49,
      "outputs": [
        {
          "output_type": "stream",
          "text": [
            "\n",
            "Percentage of UP on test data: 60.23\n",
            "\n",
            "Confusion matrix on test data:\n",
            " [[28  7]\n",
            " [43 10]]\n",
            "\n",
            "F1 score on test data: 0.29\n"
          ],
          "name": "stdout"
        }
      ]
    },
    {
      "cell_type": "code",
      "metadata": {
        "colab": {
          "base_uri": "https://localhost:8080/",
          "height": 281
        },
        "id": "Jv83JM7eKDtn",
        "outputId": "b66bd084-5a46-4ed1-9ff7-9eaf3cbd134f"
      },
      "source": [
        "sns.heatmap(cf_mat/np.sum(cf_mat), annot=True, \r\n",
        "            fmt='.2%', cmap='Blues')"
      ],
      "execution_count": 58,
      "outputs": [
        {
          "output_type": "execute_result",
          "data": {
            "text/plain": [
              "<matplotlib.axes._subplots.AxesSubplot at 0x7f0bbc547d30>"
            ]
          },
          "metadata": {
            "tags": []
          },
          "execution_count": 58
        },
        {
          "output_type": "display_data",
          "data": {
            "image/png": "[encoded data removed]",
            "text/plain": [
              "<Figure size 432x288 with 2 Axes>"
            ]
          },
          "metadata": {
            "tags": [],
            "needs_background": "light"
          }
        }
      ]
    },
    {
      "cell_type": "code",
      "metadata": {
        "id": "vYQCWkO2RBcI"
      },
      "source": [
        ""
      ],
      "execution_count": 59,
      "outputs": []
    },
    {
      "cell_type": "code",
      "metadata": {
        "id": "g655ROHfRO0M"
      },
      "source": [
        ""
      ],
      "execution_count": null,
      "outputs": []
    }
  ]
}